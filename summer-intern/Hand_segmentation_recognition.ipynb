{
  "nbformat": 4,
  "nbformat_minor": 0,
  "metadata": {
    "colab": {
      "name": "Hand segmentation recognition.ipynb",
      "provenance": [],
      "collapsed_sections": []
    },
    "kernelspec": {
      "name": "python3",
      "display_name": "Python 3"
    },
    "accelerator": "GPU"
  },
  "cells": [
    {
      "cell_type": "code",
      "metadata": {
        "id": "Q-zfw42BxXde",
        "colab": {
          "base_uri": "https://localhost:8080/",
          "height": 34
        },
        "outputId": "7660812e-e2cd-4e2d-9e68-918538fee4a3"
      },
      "source": [
        "import tensorflow as tf\n",
        "import keras\n",
        "from keras.models import Sequential,Model\n",
        "from keras.layers import Dense,convolutional,Input,Conv2D,BatchNormalization,Activation,UpSampling2D,Dropout\n",
        "from keras.layers.merge import concatenate,Add\n",
        "from keras import models, layers\n",
        "import numpy as np\n",
        "############dataset\n",
        "from PIL import Image\n",
        "import os\n",
        "import sys\n",
        "import h5py\n",
        "import tables\n",
        "from keras.layers.advanced_activations import LeakyReLU\n",
        "from keras.regularizers import l2"
      ],
      "execution_count": null,
      "outputs": [
        {
          "output_type": "stream",
          "text": [
            "Using TensorFlow backend.\n"
          ],
          "name": "stderr"
        }
      ]
    },
    {
      "cell_type": "code",
      "metadata": {
        "id": "R-ct_YEKLa39"
      },
      "source": [
        "import cv2"
      ],
      "execution_count": null,
      "outputs": []
    },
    {
      "cell_type": "code",
      "metadata": {
        "id": "0SRpjm2pE1TQ",
        "colab": {
          "base_uri": "https://localhost:8080/",
          "height": 548
        },
        "outputId": "f3e30304-e144-45d6-d44d-9fd383a69db2"
      },
      "source": [
        "from google.colab import drive\n",
        "drive.mount('/content/drive')\n"
      ],
      "execution_count": null,
      "outputs": [
        {
          "output_type": "error",
          "ename": "KeyboardInterrupt",
          "evalue": "ignored",
          "traceback": [
            "\u001b[0;31m---------------------------------------------------------------------------\u001b[0m",
            "\u001b[0;31mKeyboardInterrupt\u001b[0m                         Traceback (most recent call last)",
            "\u001b[0;32m/usr/local/lib/python3.6/dist-packages/ipykernel/kernelbase.py\u001b[0m in \u001b[0;36m_input_request\u001b[0;34m(self, prompt, ident, parent, password)\u001b[0m\n\u001b[1;32m    728\u001b[0m             \u001b[0;32mtry\u001b[0m\u001b[0;34m:\u001b[0m\u001b[0;34m\u001b[0m\u001b[0;34m\u001b[0m\u001b[0m\n\u001b[0;32m--> 729\u001b[0;31m                 \u001b[0mident\u001b[0m\u001b[0;34m,\u001b[0m \u001b[0mreply\u001b[0m \u001b[0;34m=\u001b[0m \u001b[0mself\u001b[0m\u001b[0;34m.\u001b[0m\u001b[0msession\u001b[0m\u001b[0;34m.\u001b[0m\u001b[0mrecv\u001b[0m\u001b[0;34m(\u001b[0m\u001b[0mself\u001b[0m\u001b[0;34m.\u001b[0m\u001b[0mstdin_socket\u001b[0m\u001b[0;34m,\u001b[0m \u001b[0;36m0\u001b[0m\u001b[0;34m)\u001b[0m\u001b[0;34m\u001b[0m\u001b[0;34m\u001b[0m\u001b[0m\n\u001b[0m\u001b[1;32m    730\u001b[0m             \u001b[0;32mexcept\u001b[0m \u001b[0mException\u001b[0m\u001b[0;34m:\u001b[0m\u001b[0;34m\u001b[0m\u001b[0;34m\u001b[0m\u001b[0m\n",
            "\u001b[0;32m/usr/local/lib/python3.6/dist-packages/jupyter_client/session.py\u001b[0m in \u001b[0;36mrecv\u001b[0;34m(self, socket, mode, content, copy)\u001b[0m\n\u001b[1;32m    802\u001b[0m         \u001b[0;32mtry\u001b[0m\u001b[0;34m:\u001b[0m\u001b[0;34m\u001b[0m\u001b[0;34m\u001b[0m\u001b[0m\n\u001b[0;32m--> 803\u001b[0;31m             \u001b[0mmsg_list\u001b[0m \u001b[0;34m=\u001b[0m \u001b[0msocket\u001b[0m\u001b[0;34m.\u001b[0m\u001b[0mrecv_multipart\u001b[0m\u001b[0;34m(\u001b[0m\u001b[0mmode\u001b[0m\u001b[0;34m,\u001b[0m \u001b[0mcopy\u001b[0m\u001b[0;34m=\u001b[0m\u001b[0mcopy\u001b[0m\u001b[0;34m)\u001b[0m\u001b[0;34m\u001b[0m\u001b[0;34m\u001b[0m\u001b[0m\n\u001b[0m\u001b[1;32m    804\u001b[0m         \u001b[0;32mexcept\u001b[0m \u001b[0mzmq\u001b[0m\u001b[0;34m.\u001b[0m\u001b[0mZMQError\u001b[0m \u001b[0;32mas\u001b[0m \u001b[0me\u001b[0m\u001b[0;34m:\u001b[0m\u001b[0;34m\u001b[0m\u001b[0;34m\u001b[0m\u001b[0m\n",
            "\u001b[0;32m/usr/local/lib/python3.6/dist-packages/zmq/sugar/socket.py\u001b[0m in \u001b[0;36mrecv_multipart\u001b[0;34m(self, flags, copy, track)\u001b[0m\n\u001b[1;32m    474\u001b[0m         \"\"\"\n\u001b[0;32m--> 475\u001b[0;31m         \u001b[0mparts\u001b[0m \u001b[0;34m=\u001b[0m \u001b[0;34m[\u001b[0m\u001b[0mself\u001b[0m\u001b[0;34m.\u001b[0m\u001b[0mrecv\u001b[0m\u001b[0;34m(\u001b[0m\u001b[0mflags\u001b[0m\u001b[0;34m,\u001b[0m \u001b[0mcopy\u001b[0m\u001b[0;34m=\u001b[0m\u001b[0mcopy\u001b[0m\u001b[0;34m,\u001b[0m \u001b[0mtrack\u001b[0m\u001b[0;34m=\u001b[0m\u001b[0mtrack\u001b[0m\u001b[0;34m)\u001b[0m\u001b[0;34m]\u001b[0m\u001b[0;34m\u001b[0m\u001b[0;34m\u001b[0m\u001b[0m\n\u001b[0m\u001b[1;32m    476\u001b[0m         \u001b[0;31m# have first part already, only loop while more to receive\u001b[0m\u001b[0;34m\u001b[0m\u001b[0;34m\u001b[0m\u001b[0;34m\u001b[0m\u001b[0m\n",
            "\u001b[0;32mzmq/backend/cython/socket.pyx\u001b[0m in \u001b[0;36mzmq.backend.cython.socket.Socket.recv\u001b[0;34m()\u001b[0m\n",
            "\u001b[0;32mzmq/backend/cython/socket.pyx\u001b[0m in \u001b[0;36mzmq.backend.cython.socket.Socket.recv\u001b[0;34m()\u001b[0m\n",
            "\u001b[0;32mzmq/backend/cython/socket.pyx\u001b[0m in \u001b[0;36mzmq.backend.cython.socket._recv_copy\u001b[0;34m()\u001b[0m\n",
            "\u001b[0;32m/usr/local/lib/python3.6/dist-packages/zmq/backend/cython/checkrc.pxd\u001b[0m in \u001b[0;36mzmq.backend.cython.checkrc._check_rc\u001b[0;34m()\u001b[0m\n",
            "\u001b[0;31mKeyboardInterrupt\u001b[0m: ",
            "\nDuring handling of the above exception, another exception occurred:\n",
            "\u001b[0;31mKeyboardInterrupt\u001b[0m                         Traceback (most recent call last)",
            "\u001b[0;32m<ipython-input-4-d5df0069828e>\u001b[0m in \u001b[0;36m<module>\u001b[0;34m()\u001b[0m\n\u001b[1;32m      1\u001b[0m \u001b[0;32mfrom\u001b[0m \u001b[0mgoogle\u001b[0m\u001b[0;34m.\u001b[0m\u001b[0mcolab\u001b[0m \u001b[0;32mimport\u001b[0m \u001b[0mdrive\u001b[0m\u001b[0;34m\u001b[0m\u001b[0;34m\u001b[0m\u001b[0m\n\u001b[0;32m----> 2\u001b[0;31m \u001b[0mdrive\u001b[0m\u001b[0;34m.\u001b[0m\u001b[0mmount\u001b[0m\u001b[0;34m(\u001b[0m\u001b[0;34m'/content/drive'\u001b[0m\u001b[0;34m)\u001b[0m\u001b[0;34m\u001b[0m\u001b[0;34m\u001b[0m\u001b[0m\n\u001b[0m",
            "\u001b[0;32m/usr/local/lib/python3.6/dist-packages/google/colab/drive.py\u001b[0m in \u001b[0;36mmount\u001b[0;34m(mountpoint, force_remount, timeout_ms, use_metadata_server)\u001b[0m\n\u001b[1;32m    240\u001b[0m       \u001b[0mauth_prompt\u001b[0m \u001b[0;34m=\u001b[0m \u001b[0md\u001b[0m\u001b[0;34m.\u001b[0m\u001b[0mmatch\u001b[0m\u001b[0;34m.\u001b[0m\u001b[0mgroup\u001b[0m\u001b[0;34m(\u001b[0m\u001b[0;36m1\u001b[0m\u001b[0;34m)\u001b[0m \u001b[0;34m+\u001b[0m \u001b[0;34m'\\nEnter your authorization code:\\n'\u001b[0m\u001b[0;34m\u001b[0m\u001b[0;34m\u001b[0m\u001b[0m\n\u001b[1;32m    241\u001b[0m       \u001b[0;32mwith\u001b[0m \u001b[0mopen\u001b[0m\u001b[0;34m(\u001b[0m\u001b[0mfifo\u001b[0m\u001b[0;34m,\u001b[0m \u001b[0;34m'w'\u001b[0m\u001b[0;34m)\u001b[0m \u001b[0;32mas\u001b[0m \u001b[0mfifo_file\u001b[0m\u001b[0;34m:\u001b[0m\u001b[0;34m\u001b[0m\u001b[0;34m\u001b[0m\u001b[0m\n\u001b[0;32m--> 242\u001b[0;31m         \u001b[0mfifo_file\u001b[0m\u001b[0;34m.\u001b[0m\u001b[0mwrite\u001b[0m\u001b[0;34m(\u001b[0m\u001b[0m_getpass\u001b[0m\u001b[0;34m.\u001b[0m\u001b[0mgetpass\u001b[0m\u001b[0;34m(\u001b[0m\u001b[0mauth_prompt\u001b[0m\u001b[0;34m)\u001b[0m \u001b[0;34m+\u001b[0m \u001b[0;34m'\\n'\u001b[0m\u001b[0;34m)\u001b[0m\u001b[0;34m\u001b[0m\u001b[0;34m\u001b[0m\u001b[0m\n\u001b[0m\u001b[1;32m    243\u001b[0m       \u001b[0mwrote_to_fifo\u001b[0m \u001b[0;34m=\u001b[0m \u001b[0;32mTrue\u001b[0m\u001b[0;34m\u001b[0m\u001b[0;34m\u001b[0m\u001b[0m\n\u001b[1;32m    244\u001b[0m   \u001b[0;32mif\u001b[0m \u001b[0;32mnot\u001b[0m \u001b[0mwrote_to_fifo\u001b[0m\u001b[0;34m:\u001b[0m\u001b[0;34m\u001b[0m\u001b[0;34m\u001b[0m\u001b[0m\n",
            "\u001b[0;32m/usr/local/lib/python3.6/dist-packages/ipykernel/kernelbase.py\u001b[0m in \u001b[0;36mgetpass\u001b[0;34m(self, prompt, stream)\u001b[0m\n\u001b[1;32m    685\u001b[0m             \u001b[0mself\u001b[0m\u001b[0;34m.\u001b[0m\u001b[0m_parent_ident\u001b[0m\u001b[0;34m,\u001b[0m\u001b[0;34m\u001b[0m\u001b[0;34m\u001b[0m\u001b[0m\n\u001b[1;32m    686\u001b[0m             \u001b[0mself\u001b[0m\u001b[0;34m.\u001b[0m\u001b[0m_parent_header\u001b[0m\u001b[0;34m,\u001b[0m\u001b[0;34m\u001b[0m\u001b[0;34m\u001b[0m\u001b[0m\n\u001b[0;32m--> 687\u001b[0;31m             \u001b[0mpassword\u001b[0m\u001b[0;34m=\u001b[0m\u001b[0;32mTrue\u001b[0m\u001b[0;34m,\u001b[0m\u001b[0;34m\u001b[0m\u001b[0;34m\u001b[0m\u001b[0m\n\u001b[0m\u001b[1;32m    688\u001b[0m         )\n\u001b[1;32m    689\u001b[0m \u001b[0;34m\u001b[0m\u001b[0m\n",
            "\u001b[0;32m/usr/local/lib/python3.6/dist-packages/ipykernel/kernelbase.py\u001b[0m in \u001b[0;36m_input_request\u001b[0;34m(self, prompt, ident, parent, password)\u001b[0m\n\u001b[1;32m    732\u001b[0m             \u001b[0;32mexcept\u001b[0m \u001b[0mKeyboardInterrupt\u001b[0m\u001b[0;34m:\u001b[0m\u001b[0;34m\u001b[0m\u001b[0;34m\u001b[0m\u001b[0m\n\u001b[1;32m    733\u001b[0m                 \u001b[0;31m# re-raise KeyboardInterrupt, to truncate traceback\u001b[0m\u001b[0;34m\u001b[0m\u001b[0;34m\u001b[0m\u001b[0;34m\u001b[0m\u001b[0m\n\u001b[0;32m--> 734\u001b[0;31m                 \u001b[0;32mraise\u001b[0m \u001b[0mKeyboardInterrupt\u001b[0m\u001b[0;34m\u001b[0m\u001b[0;34m\u001b[0m\u001b[0m\n\u001b[0m\u001b[1;32m    735\u001b[0m             \u001b[0;32melse\u001b[0m\u001b[0;34m:\u001b[0m\u001b[0;34m\u001b[0m\u001b[0;34m\u001b[0m\u001b[0m\n\u001b[1;32m    736\u001b[0m                 \u001b[0;32mbreak\u001b[0m\u001b[0;34m\u001b[0m\u001b[0;34m\u001b[0m\u001b[0m\n",
            "\u001b[0;31mKeyboardInterrupt\u001b[0m: "
          ]
        }
      ]
    },
    {
      "cell_type": "code",
      "metadata": {
        "id": "8qY7D_mTLUcF"
      },
      "source": [
        ""
      ],
      "execution_count": null,
      "outputs": []
    },
    {
      "cell_type": "code",
      "metadata": {
        "id": "l_yBcuQKKXu0"
      },
      "source": [
        "%tensorflow_version 2.x"
      ],
      "execution_count": null,
      "outputs": []
    },
    {
      "cell_type": "code",
      "metadata": {
        "id": "rOjsQxjHyYwJ"
      },
      "source": [
        "xtrain_path = \"x_train/\"\n",
        "xtrain_dirs = os.listdir( xtrain_path )\n",
        "xtest_path = \"x_test/\"\n",
        "xtest_dirs = os.listdir( xtest_path )\n",
        "x_train = []\n",
        "x_test=[]\n",
        "ytrain_path = \"y_train/\"\n",
        "ytrain_dirs = os.listdir( ytrain_path )\n",
        "ytest_path = \"y_test/\"\n",
        "ytest_dirs = os.listdir( ytest_path )\n",
        "y_train = []\n",
        "y_test=[]"
      ],
      "execution_count": null,
      "outputs": []
    },
    {
      "cell_type": "code",
      "metadata": {
        "id": "M5Z5BapH5r8g"
      },
      "source": [
        "i=1\n",
        "for file in xtrain_dirs:\n",
        "    print(i)\n",
        "\n",
        "    img = Image.open('x_train/'+file)\n",
        "    img = img.resize((320, 320))\n",
        "\n",
        "    arr = np.array(img)\n",
        "    x_train=np.append(x_train,arr)\n",
        "\n",
        "    x_train = np.array(x_train, dtype='float32')\n",
        "    x_train = x_train.reshape((i, 320, 320, 3))\n",
        "    \n",
        "    #x_train /= 255\n",
        "\n",
        "    i += 1\n",
        "\n",
        "\n",
        "print(x_train.shape)"
      ],
      "execution_count": null,
      "outputs": []
    },
    {
      "cell_type": "code",
      "metadata": {
        "id": "1Gi07kHG7EaX"
      },
      "source": [
        "j = 1\n",
        "for file in xtest_dirs:\n",
        "    print(j)\n",
        "\n",
        "    img = Image.open('x_test/'+file)\n",
        "    img = img.resize((320, 320))\n",
        "\n",
        "    arr = np.array(img)\n",
        "    x_test=np.append(x_test,arr)\n",
        "\n",
        "    x_test = np.array(x_test, dtype='float32')\n",
        "    x_test = x_test.reshape((j, 320, 320, 3))\n",
        "\n",
        "    #x_test /= 255\n",
        "\n",
        "    j += 1\n"
      ],
      "execution_count": null,
      "outputs": []
    },
    {
      "cell_type": "code",
      "metadata": {
        "id": "z5ESOOJHznne"
      },
      "source": [
        "\n",
        "\n",
        "\n",
        "\n",
        "\n",
        "\n",
        "j = 1\n",
        "for file in ytest_dirs:\n",
        "    print(j)\n",
        "\n",
        "    img = Image.open('y_test/'+file)\n",
        "    img = img.resize((320, 320))\n",
        "\n",
        "    arr = np.array(img)\n",
        "    y_test=np.append(y_test,arr)\n",
        "\n",
        "    y_test = np.array(y_test, dtype='float32')\n",
        "    y_test = y_test.reshape((j, 320, 320, 1))\n",
        "\n",
        "  \n",
        "\n",
        "    j += 1\n",
        "\n"
      ],
      "execution_count": null,
      "outputs": []
    },
    {
      "cell_type": "code",
      "metadata": {
        "id": "4AxM4Kkm7GWx"
      },
      "source": [
        "i = 1\n",
        "for file in ytrain_dirs:\n",
        "    print(i)\n",
        "\n",
        "    img = Image.open('y_train/' + file)\n",
        "    img = img.resize((320, 320))\n",
        "\n",
        "    arr = np.array(img)\n",
        "    y_train = np.append(y_train, arr)\n",
        "\n",
        "    y_train = np.array(y_train, dtype='float32')\n",
        "    y_train = y_train.reshape((i, 320, 320, 1))\n",
        "\n",
        "    y_train /= 255\n",
        "\n",
        "    i += 1\n",
        "print(y_train.shape)"
      ],
      "execution_count": null,
      "outputs": []
    },
    {
      "cell_type": "code",
      "metadata": {
        "id": "KtExYUfqzqXg"
      },
      "source": [
        "hf = h5py.File('Approach2_data.h5', 'w')\n",
        "hf.create_dataset('x_train', data=x_train)\n",
        "hf.create_dataset('y_train', data=y_train)\n",
        "hf.create_dataset('x_test', data=x_test)\n",
        "hf.create_dataset('y_test', data=y_test)\n",
        "hf.close()"
      ],
      "execution_count": null,
      "outputs": []
    },
    {
      "cell_type": "code",
      "metadata": {
        "id": "OjvmAu6XFllj"
      },
      "source": [
        ""
      ],
      "execution_count": null,
      "outputs": []
    },
    {
      "cell_type": "code",
      "metadata": {
        "id": "5HQpLB8tBVuu",
        "colab": {
          "base_uri": "https://localhost:8080/",
          "height": 34
        },
        "outputId": "da92162d-f41e-48e9-ab68-eb59b15e8545"
      },
      "source": [
        "hdf5_file = tables.open_file('drive/My Drive/x_train_160.h5', mode='r')\n",
        "x_train1 = np.array(hdf5_file.root.x_train1)\n",
        "hdf5_file.close()\n",
        "print(x_train1.shape)"
      ],
      "execution_count": null,
      "outputs": [
        {
          "output_type": "stream",
          "text": [
            "(716, 160, 160, 3)\n"
          ],
          "name": "stdout"
        }
      ]
    },
    {
      "cell_type": "code",
      "metadata": {
        "id": "n9KxOA9y2jR6",
        "colab": {
          "base_uri": "https://localhost:8080/",
          "height": 34
        },
        "outputId": "f1fe5fbe-0a0f-4d09-be50-2705c267a0aa"
      },
      "source": [
        "hdf5_file = tables.open_file('drive/My Drive/x_train2_modify1.h5', mode='r')\n",
        "x_train21 = np.array(hdf5_file.root.x_train2_modify1)\n",
        "hdf5_file.close()\n",
        "print(x_train21.shape)"
      ],
      "execution_count": null,
      "outputs": [
        {
          "output_type": "stream",
          "text": [
            "(1195, 160, 160, 3)\n"
          ],
          "name": "stdout"
        }
      ]
    },
    {
      "cell_type": "code",
      "metadata": {
        "id": "_A9RlYP-F2EE",
        "colab": {
          "base_uri": "https://localhost:8080/",
          "height": 34
        },
        "outputId": "99f9f0c5-f66e-457d-abd5-bae84c58fb61"
      },
      "source": [
        "hdf5_file = tables.open_file('drive/My Drive/x_train2_modify2.h5', mode='r')\n",
        "x_train22 = np.array(hdf5_file.root.x_train2_modify2)\n",
        "hdf5_file.close()\n",
        "print(x_train22.shape)"
      ],
      "execution_count": null,
      "outputs": [
        {
          "output_type": "stream",
          "text": [
            "(1300, 160, 160, 3)\n"
          ],
          "name": "stdout"
        }
      ]
    },
    {
      "cell_type": "code",
      "metadata": {
        "id": "huSpfFDAF4wj",
        "colab": {
          "base_uri": "https://localhost:8080/",
          "height": 34
        },
        "outputId": "b4205264-d940-4bf3-a563-bc99b46ccd0d"
      },
      "source": [
        "hdf5_file = tables.open_file('drive/My Drive/x_train2_modify3.h5', mode='r')\n",
        "x_train23 = np.array(hdf5_file.root.x_train2_modify3)\n",
        "hdf5_file.close()\n",
        "print(x_train23.shape)"
      ],
      "execution_count": null,
      "outputs": [
        {
          "output_type": "stream",
          "text": [
            "(1300, 160, 160, 3)\n"
          ],
          "name": "stdout"
        }
      ]
    },
    {
      "cell_type": "code",
      "metadata": {
        "id": "E8ELgGo-52bz",
        "colab": {
          "base_uri": "https://localhost:8080/",
          "height": 34
        },
        "outputId": "f51ab765-35d5-41ad-b6ab-7f24244bdc33"
      },
      "source": [
        "hdf5_file = tables.open_file('drive/My Drive/x_train1_160_flip.h5', mode='r')\n",
        "x_train_flip = np.array(hdf5_file.root.x_train1_flip)\n",
        "hdf5_file.close()\n",
        "print(x_train_flip.shape)"
      ],
      "execution_count": null,
      "outputs": [
        {
          "output_type": "stream",
          "text": [
            "(716, 160, 160, 3)\n"
          ],
          "name": "stdout"
        }
      ]
    },
    {
      "cell_type": "code",
      "metadata": {
        "id": "fQx-wF4AWXlx",
        "colab": {
          "base_uri": "https://localhost:8080/",
          "height": 34
        },
        "outputId": "001a757e-c3e3-42b7-a9fc-9906ec28f86a"
      },
      "source": [
        "import numpy as np\n",
        "\n",
        "x_train=np.concatenate((x_train21,x_train22,x_train23),axis=0)\n",
        "#x_train=np.concatenate((x_train1,x_train_flip),axis=0)\n",
        "print(x_train.shape)"
      ],
      "execution_count": null,
      "outputs": [
        {
          "output_type": "stream",
          "text": [
            "(3795, 160, 160, 3)\n"
          ],
          "name": "stdout"
        }
      ]
    },
    {
      "cell_type": "code",
      "metadata": {
        "id": "xpq0yg0wB7Zv",
        "colab": {
          "base_uri": "https://localhost:8080/",
          "height": 34
        },
        "outputId": "c3b7390c-d87c-440f-acb1-7971b7abc702"
      },
      "source": [
        "hdf5_file = tables.open_file('drive/My Drive/y_train1_160.h5', mode='r')\n",
        "y_train1 = np.array(hdf5_file.root.y_train1)\n",
        "hdf5_file.close()\n",
        "print(y_train1.shape)"
      ],
      "execution_count": null,
      "outputs": [
        {
          "output_type": "stream",
          "text": [
            "(716, 160, 160, 1)\n"
          ],
          "name": "stdout"
        }
      ]
    },
    {
      "cell_type": "code",
      "metadata": {
        "id": "9MsCNxBV6GHX",
        "colab": {
          "base_uri": "https://localhost:8080/",
          "height": 34
        },
        "outputId": "4154b743-7d3e-4b5b-b963-b94de9e8aa67"
      },
      "source": [
        "hdf5_file = tables.open_file('drive/My Drive/y_train1_160_flip.h5', mode='r')\n",
        "y_train_flip = np.array(hdf5_file.root.y_train1_flip)\n",
        "hdf5_file.close()\n",
        "print(y_train_flip.shape)"
      ],
      "execution_count": null,
      "outputs": [
        {
          "output_type": "stream",
          "text": [
            "(716, 160, 160, 1)\n"
          ],
          "name": "stdout"
        }
      ]
    },
    {
      "cell_type": "code",
      "metadata": {
        "id": "qHugoSeUF62I",
        "colab": {
          "base_uri": "https://localhost:8080/",
          "height": 34
        },
        "outputId": "11edac90-0346-4a7c-abfd-53a297c3b369"
      },
      "source": [
        "hdf5_file = tables.open_file('drive/My Drive/y_train2_modify1.h5', mode='r')\n",
        "y_train21 = np.array(hdf5_file.root.y_train2_modify1)\n",
        "hdf5_file.close()\n",
        "print(y_train21.shape)"
      ],
      "execution_count": null,
      "outputs": [
        {
          "output_type": "stream",
          "text": [
            "(1195, 160, 160, 1)\n"
          ],
          "name": "stdout"
        }
      ]
    },
    {
      "cell_type": "code",
      "metadata": {
        "id": "g1nHca5UGDq0",
        "colab": {
          "base_uri": "https://localhost:8080/",
          "height": 34
        },
        "outputId": "4a9b1ece-bb73-45fd-9414-3f71d76e3e75"
      },
      "source": [
        "hdf5_file = tables.open_file('drive/My Drive/y_train2_modify2.h5', mode='r')\n",
        "y_train22 = np.array(hdf5_file.root.y_train2_modify2)\n",
        "hdf5_file.close()\n",
        "print(y_train22.shape)"
      ],
      "execution_count": null,
      "outputs": [
        {
          "output_type": "stream",
          "text": [
            "(1300, 160, 160, 1)\n"
          ],
          "name": "stdout"
        }
      ]
    },
    {
      "cell_type": "code",
      "metadata": {
        "id": "Cm6d199rGGuW",
        "colab": {
          "base_uri": "https://localhost:8080/",
          "height": 34
        },
        "outputId": "f29016f3-f6af-4620-dc93-ef71f88935f9"
      },
      "source": [
        "hdf5_file = tables.open_file('drive/My Drive/y_train2_modify3.h5', mode='r')\n",
        "y_train23 = np.array(hdf5_file.root.y_train2_modify3)\n",
        "hdf5_file.close()\n",
        "print(y_train23.shape)"
      ],
      "execution_count": null,
      "outputs": [
        {
          "output_type": "stream",
          "text": [
            "(1300, 160, 160, 1)\n"
          ],
          "name": "stdout"
        }
      ]
    },
    {
      "cell_type": "code",
      "metadata": {
        "id": "rThW3wsUIgde"
      },
      "source": [
        ""
      ],
      "execution_count": null,
      "outputs": []
    },
    {
      "cell_type": "code",
      "metadata": {
        "id": "9TdiIRiwWvM4"
      },
      "source": [
        "y_train21=y_train21/255\n",
        "y_train21=1-y_train21\n",
        "y_train22=y_train22/255\n",
        "y_train22=1-y_train22\n",
        "y_train23=y_train23/255\n",
        "y_train23=1-y_train23"
      ],
      "execution_count": null,
      "outputs": []
    },
    {
      "cell_type": "code",
      "metadata": {
        "id": "4vpDXCefW5G6",
        "colab": {
          "base_uri": "https://localhost:8080/",
          "height": 34
        },
        "outputId": "14be8bdb-5a4a-4b7c-a0b9-b07089026d86"
      },
      "source": [
        "y_train=np.concatenate((y_train21,y_train22,y_train23),axis=0)\n",
        "#y_train=np.concatenate((y_train1,y_train_flip),axis=0)\n",
        "print(y_train.shape)"
      ],
      "execution_count": null,
      "outputs": [
        {
          "output_type": "stream",
          "text": [
            "(3795, 160, 160, 1)\n"
          ],
          "name": "stdout"
        }
      ]
    },
    {
      "cell_type": "code",
      "metadata": {
        "id": "d8obHgR7IiWQ",
        "colab": {
          "base_uri": "https://localhost:8080/",
          "height": 34
        },
        "outputId": "d7f34121-98d5-4bec-ba68-48be08521bbb"
      },
      "source": [
        "np.max(y_train)"
      ],
      "execution_count": null,
      "outputs": [
        {
          "output_type": "execute_result",
          "data": {
            "text/plain": [
              "1.0"
            ]
          },
          "metadata": {
            "tags": []
          },
          "execution_count": 13
        }
      ]
    },
    {
      "cell_type": "code",
      "metadata": {
        "id": "zrxkcwe8GXo8",
        "colab": {
          "base_uri": "https://localhost:8080/",
          "height": 34
        },
        "outputId": "20be9612-b260-4c93-c1fc-289b2be8d511"
      },
      "source": [
        "hdf5_file = tables.open_file('drive/My Drive/x_test1_160.h5', mode='r')\n",
        "x_test1 = np.array(hdf5_file.root.x_test1)\n",
        "hdf5_file.close()\n",
        "print(x_test1.shape)"
      ],
      "execution_count": null,
      "outputs": [
        {
          "output_type": "stream",
          "text": [
            "(183, 160, 160, 3)\n"
          ],
          "name": "stdout"
        }
      ]
    },
    {
      "cell_type": "code",
      "metadata": {
        "id": "oFrrpycEXHvd",
        "colab": {
          "base_uri": "https://localhost:8080/",
          "height": 34
        },
        "outputId": "21b47400-327f-406d-8768-60de012d0a40"
      },
      "source": [
        "hdf5_file = tables.open_file('drive/My Drive/x_test2_160.h5', mode='r')\n",
        "x_test2 = np.array(hdf5_file.root.x_test)\n",
        "hdf5_file.close()\n",
        "print(x_test2.shape)"
      ],
      "execution_count": null,
      "outputs": [
        {
          "output_type": "stream",
          "text": [
            "(450, 160, 160, 3)\n"
          ],
          "name": "stdout"
        }
      ]
    },
    {
      "cell_type": "code",
      "metadata": {
        "id": "QQ_tW7mnXfwD",
        "colab": {
          "base_uri": "https://localhost:8080/",
          "height": 34
        },
        "outputId": "db844b7a-9c02-46d3-dd71-638935fedc74"
      },
      "source": [
        "x_test=np.concatenate((x_test1,x_test2),axis=0)\n",
        "print(x_test.shape)"
      ],
      "execution_count": null,
      "outputs": [
        {
          "output_type": "stream",
          "text": [
            "(633, 160, 160, 3)\n"
          ],
          "name": "stdout"
        }
      ]
    },
    {
      "cell_type": "code",
      "metadata": {
        "id": "zUyhzcEOGX6k",
        "colab": {
          "base_uri": "https://localhost:8080/",
          "height": 34
        },
        "outputId": "29334bf8-5647-41aa-8796-0a8f884f1dc1"
      },
      "source": [
        "hdf5_file = tables.open_file('drive/My Drive/y_test1_160.h5', mode='r')\n",
        "y_test1 = np.array(hdf5_file.root.y_test1)\n",
        "hdf5_file.close()\n",
        "print(y_test1.shape)"
      ],
      "execution_count": null,
      "outputs": [
        {
          "output_type": "stream",
          "text": [
            "(183, 160, 160, 1)\n"
          ],
          "name": "stdout"
        }
      ]
    },
    {
      "cell_type": "code",
      "metadata": {
        "id": "LOj-soXkXR4t",
        "colab": {
          "base_uri": "https://localhost:8080/",
          "height": 34
        },
        "outputId": "764e8510-c348-40e9-bba8-3d22566b13da"
      },
      "source": [
        "hdf5_file = tables.open_file('drive/My Drive/y_test2_160.h5', mode='r')\n",
        "y_test2 = np.array(hdf5_file.root.y_test)\n",
        "hdf5_file.close()\n",
        "print(y_test2.shape)"
      ],
      "execution_count": null,
      "outputs": [
        {
          "output_type": "stream",
          "text": [
            "(450, 160, 160, 1)\n"
          ],
          "name": "stdout"
        }
      ]
    },
    {
      "cell_type": "code",
      "metadata": {
        "id": "qKFXh_BWFbKl"
      },
      "source": [
        "y_test2=y_test2/255\n",
        "y_test2=1-y_test2"
      ],
      "execution_count": null,
      "outputs": []
    },
    {
      "cell_type": "code",
      "metadata": {
        "id": "FiwbjKBTGiXc",
        "colab": {
          "base_uri": "https://localhost:8080/",
          "height": 34
        },
        "outputId": "54696794-32d6-4830-f53d-3b107f89fc8b"
      },
      "source": [
        "y_test=np.concatenate((y_test1,y_test2),axis=0)\n",
        "print(y_test.shape)"
      ],
      "execution_count": null,
      "outputs": [
        {
          "output_type": "stream",
          "text": [
            "(633, 160, 160, 1)\n"
          ],
          "name": "stdout"
        }
      ]
    },
    {
      "cell_type": "code",
      "metadata": {
        "id": "AKuKaL6mbEp1",
        "colab": {
          "base_uri": "https://localhost:8080/",
          "height": 164
        },
        "outputId": "0040236f-349b-4ef2-82ea-a3763e8ea7d7"
      },
      "source": [
        "x_test=x_test2"
      ],
      "execution_count": null,
      "outputs": [
        {
          "output_type": "error",
          "ename": "NameError",
          "evalue": "ignored",
          "traceback": [
            "\u001b[0;31m---------------------------------------------------------------------------\u001b[0m",
            "\u001b[0;31mNameError\u001b[0m                                 Traceback (most recent call last)",
            "\u001b[0;32m<ipython-input-16-71667803a502>\u001b[0m in \u001b[0;36m<module>\u001b[0;34m()\u001b[0m\n\u001b[0;32m----> 1\u001b[0;31m \u001b[0mx_test\u001b[0m\u001b[0;34m=\u001b[0m\u001b[0mx_test2\u001b[0m\u001b[0;34m\u001b[0m\u001b[0;34m\u001b[0m\u001b[0m\n\u001b[0m",
            "\u001b[0;31mNameError\u001b[0m: name 'x_test2' is not defined"
          ]
        }
      ]
    },
    {
      "cell_type": "code",
      "metadata": {
        "id": "-O0YNEOebGgV",
        "colab": {
          "base_uri": "https://localhost:8080/",
          "height": 164
        },
        "outputId": "3970cbb6-8678-483e-dd56-d481ec7498fb"
      },
      "source": [
        "y_test=y_test2"
      ],
      "execution_count": null,
      "outputs": [
        {
          "output_type": "error",
          "ename": "NameError",
          "evalue": "ignored",
          "traceback": [
            "\u001b[0;31m---------------------------------------------------------------------------\u001b[0m",
            "\u001b[0;31mNameError\u001b[0m                                 Traceback (most recent call last)",
            "\u001b[0;32m<ipython-input-17-95fa7fe0b238>\u001b[0m in \u001b[0;36m<module>\u001b[0;34m()\u001b[0m\n\u001b[0;32m----> 1\u001b[0;31m \u001b[0my_test\u001b[0m\u001b[0;34m=\u001b[0m\u001b[0my_test2\u001b[0m\u001b[0;34m\u001b[0m\u001b[0;34m\u001b[0m\u001b[0m\n\u001b[0m",
            "\u001b[0;31mNameError\u001b[0m: name 'y_test2' is not defined"
          ]
        }
      ]
    },
    {
      "cell_type": "code",
      "metadata": {
        "id": "nKFYN0U52qmZ",
        "colab": {
          "base_uri": "https://localhost:8080/",
          "height": 85
        },
        "outputId": "56161b1d-292d-4acd-ad47-9551fcf5545e"
      },
      "source": [
        "print(x_train.shape)\n",
        "print(x_test.shape)\n",
        "print(y_train.shape)\n",
        "print(y_test.shape)\n"
      ],
      "execution_count": null,
      "outputs": [
        {
          "output_type": "stream",
          "text": [
            "(3795, 160, 160, 3)\n",
            "(183, 160, 160, 3)\n",
            "(3795, 160, 160, 1)\n",
            "(183, 160, 160, 1)\n"
          ],
          "name": "stdout"
        }
      ]
    },
    {
      "cell_type": "code",
      "metadata": {
        "id": "iOpejimlcyME",
        "colab": {
          "base_uri": "https://localhost:8080/",
          "height": 34
        },
        "outputId": "30ed47e3-99c5-4d6f-808e-1e900446cddb"
      },
      "source": [
        "hdf5_file = tables.open_file('drive/My Drive/xtrain_withface.h5', mode='r')\n",
        "x_train2 = np.array(hdf5_file.root.xtrain_withface)\n",
        "hdf5_file.close()\n",
        "print(x_train2.shape)"
      ],
      "execution_count": null,
      "outputs": [
        {
          "output_type": "stream",
          "text": [
            "(952, 160, 160, 3)\n"
          ],
          "name": "stdout"
        }
      ]
    },
    {
      "cell_type": "code",
      "metadata": {
        "id": "ZegFbi31B-c6",
        "colab": {
          "base_uri": "https://localhost:8080/",
          "height": 34
        },
        "outputId": "3a83042d-dd97-4c9e-f320-78a07da5ffea"
      },
      "source": [
        "hdf5_file = tables.open_file('drive/My Drive/x_train_small.h5', mode='r')\n",
        "x_train1 = np.array(hdf5_file.root.x_train_small)\n",
        "hdf5_file.close()\n",
        "print(x_train1.shape)"
      ],
      "execution_count": null,
      "outputs": [
        {
          "output_type": "stream",
          "text": [
            "(287, 160, 160, 3)\n"
          ],
          "name": "stdout"
        }
      ]
    },
    {
      "cell_type": "code",
      "metadata": {
        "id": "-m-rde0xasYD",
        "colab": {
          "base_uri": "https://localhost:8080/",
          "height": 34
        },
        "outputId": "abe4ec54-ffeb-494b-d387-920e6ae0ed7c"
      },
      "source": [
        "import numpy as np\n",
        "\n",
        "#x_train=np.concatenate((x_train21,x_train22,x_train23),axis=0)\n",
        "x_train=np.concatenate((x_train1,x_train),axis=0)\n",
        "print(x_train.shape)"
      ],
      "execution_count": null,
      "outputs": [
        {
          "output_type": "stream",
          "text": [
            "(1239, 160, 160, 3)\n"
          ],
          "name": "stdout"
        }
      ]
    },
    {
      "cell_type": "code",
      "metadata": {
        "id": "NgBmHboIdBgv",
        "colab": {
          "base_uri": "https://localhost:8080/",
          "height": 34
        },
        "outputId": "7e8e5d7d-3f85-469a-8cd5-15b7e9052316"
      },
      "source": [
        "hdf5_file = tables.open_file('drive/My Drive/ytrain_withface.h5', mode='r')\n",
        "y_train2 = np.array(hdf5_file.root.ytrain_withface)\n",
        "hdf5_file.close()\n",
        "print(y_train2.shape)\n",
        "y_train2=y_train2/255\n",
        "y_train2=1-y_train2"
      ],
      "execution_count": null,
      "outputs": [
        {
          "output_type": "stream",
          "text": [
            "(952, 160, 160, 1)\n"
          ],
          "name": "stdout"
        }
      ]
    },
    {
      "cell_type": "code",
      "metadata": {
        "id": "XfmchCvkCVEc",
        "colab": {
          "base_uri": "https://localhost:8080/",
          "height": 34
        },
        "outputId": "73bf9738-a144-4f04-d618-586ffd7614d3"
      },
      "source": [
        "hdf5_file = tables.open_file('drive/My Drive/y_train_small.h5', mode='r')\n",
        "y_train1 = np.array(hdf5_file.root.y_train_small)\n",
        "hdf5_file.close()\n",
        "print(y_train1.shape)"
      ],
      "execution_count": null,
      "outputs": [
        {
          "output_type": "stream",
          "text": [
            "(287, 160, 160, 1)\n"
          ],
          "name": "stdout"
        }
      ]
    },
    {
      "cell_type": "code",
      "metadata": {
        "id": "Ml8DPRt4dHwV",
        "colab": {
          "base_uri": "https://localhost:8080/",
          "height": 34
        },
        "outputId": "55e89430-6a11-4eba-e38a-11d039f9367c"
      },
      "source": [
        "hdf5_file = tables.open_file('drive/My Drive/xtest_withface.h5', mode='r')\n",
        "x_test = np.array(hdf5_file.root.xtest_withface)\n",
        "hdf5_file.close()\n",
        "print(x_test.shape)"
      ],
      "execution_count": null,
      "outputs": [
        {
          "output_type": "stream",
          "text": [
            "(100, 160, 160, 3)\n"
          ],
          "name": "stdout"
        }
      ]
    },
    {
      "cell_type": "code",
      "metadata": {
        "id": "FAmeyYJtpGBv"
      },
      "source": [
        "x_test=x_test/255"
      ],
      "execution_count": null,
      "outputs": []
    },
    {
      "cell_type": "code",
      "metadata": {
        "id": "uWO4qbKsdH62",
        "colab": {
          "base_uri": "https://localhost:8080/",
          "height": 34
        },
        "outputId": "8536b103-082c-4efa-e886-067dc83cd985"
      },
      "source": [
        "hdf5_file = tables.open_file('drive/My Drive/ytest_withface.h5', mode='r')\n",
        "y_test = np.array(hdf5_file.root.ytest_withface)\n",
        "hdf5_file.close()\n",
        "print(y_test.shape)"
      ],
      "execution_count": null,
      "outputs": [
        {
          "output_type": "stream",
          "text": [
            "(100, 160, 160, 1)\n"
          ],
          "name": "stdout"
        }
      ]
    },
    {
      "cell_type": "code",
      "metadata": {
        "id": "4X9aQMz2XITo"
      },
      "source": [
        "x_train=x_train/255\n",
        "x_test=x_test/255"
      ],
      "execution_count": null,
      "outputs": []
    },
    {
      "cell_type": "code",
      "metadata": {
        "id": "6YJxtE_udG76"
      },
      "source": [
        "y_test=y_test/255\n",
        "y_test=1-y_test\n",
        "y_train=y_train/255\n",
        "y_train=1-y_train"
      ],
      "execution_count": null,
      "outputs": []
    },
    {
      "cell_type": "code",
      "metadata": {
        "id": "DstzIM2lbCTt",
        "colab": {
          "base_uri": "https://localhost:8080/",
          "height": 34
        },
        "outputId": "2d0f0741-3a34-4f09-835e-1e6cdf1681ec"
      },
      "source": [
        "import numpy as np\n",
        "\n",
        "#\n",
        "y_train=np.concatenate((y_train1,y_train),axis=0)\n",
        "print(y_train.shape)"
      ],
      "execution_count": null,
      "outputs": [
        {
          "output_type": "stream",
          "text": [
            "(1239, 160, 160, 1)\n"
          ],
          "name": "stdout"
        }
      ]
    },
    {
      "cell_type": "code",
      "metadata": {
        "id": "AooDaNgBje1H"
      },
      "source": [
        "x_test=x_test/255"
      ],
      "execution_count": null,
      "outputs": []
    },
    {
      "cell_type": "code",
      "metadata": {
        "id": "il88GWDDoVz9",
        "colab": {
          "base_uri": "https://localhost:8080/",
          "height": 34
        },
        "outputId": "2e794a33-a067-40cc-af76-4a11b7f9e7fb"
      },
      "source": [
        "hdf5_file = tables.open_file('drive/My Drive/y_train2_withface2.h5', mode='r')\n",
        "y_train = np.array(hdf5_file.root.y_train2_withface2)\n",
        "hdf5_file.close()\n",
        "print(y_train.shape)"
      ],
      "execution_count": null,
      "outputs": [
        {
          "output_type": "stream",
          "text": [
            "(2856, 160, 160, 1)\n"
          ],
          "name": "stdout"
        }
      ]
    },
    {
      "cell_type": "code",
      "metadata": {
        "id": "h3raOyq9pQUl",
        "colab": {
          "base_uri": "https://localhost:8080/",
          "height": 34
        },
        "outputId": "58c0dd4c-2e6e-457e-a60b-f14232e63209"
      },
      "source": [
        "hdf5_file = tables.open_file('drive/My Drive/xtrain_withblur1.h5', mode='r')\n",
        "x_train = np.array(hdf5_file.root.xtrain_withblur1)\n",
        "hdf5_file.close()\n",
        "print(x_train.shape)"
      ],
      "execution_count": null,
      "outputs": [
        {
          "output_type": "stream",
          "text": [
            "(1798, 160, 160, 3)\n"
          ],
          "name": "stdout"
        }
      ]
    },
    {
      "cell_type": "code",
      "metadata": {
        "id": "iBXDfk5S-Kc2",
        "colab": {
          "base_uri": "https://localhost:8080/",
          "height": 34
        },
        "outputId": "cfbc896e-d019-4c04-82c7-d69a243eca2f"
      },
      "source": [
        "hdf5_file = tables.open_file('drive/My Drive/ytrain_withblur1.h5', mode='r')\n",
        "y_train = np.array(hdf5_file.root.ytrain_withblur1)\n",
        "hdf5_file.close()\n",
        "print(y_train.shape)"
      ],
      "execution_count": null,
      "outputs": [
        {
          "output_type": "stream",
          "text": [
            "(1798, 160, 160, 1)\n"
          ],
          "name": "stdout"
        }
      ]
    },
    {
      "cell_type": "code",
      "metadata": {
        "id": "B3M9cSsL_AFh",
        "colab": {
          "base_uri": "https://localhost:8080/",
          "height": 34
        },
        "outputId": "4a28f88e-b904-4616-b016-edaaaca242ec"
      },
      "source": [
        "hdf5_file = tables.open_file('drive/My Drive/homemade_origin3_1.h5', mode='r')\n",
        "x_train3 = np.array(hdf5_file.root.homemade_origin3_1)\n",
        "hdf5_file.close()\n",
        "print(x_train3.shape)"
      ],
      "execution_count": null,
      "outputs": [
        {
          "output_type": "stream",
          "text": [
            "(40, 160, 160, 3)\n"
          ],
          "name": "stdout"
        }
      ]
    },
    {
      "cell_type": "code",
      "metadata": {
        "id": "ocCEQ0PUDwqy",
        "colab": {
          "base_uri": "https://localhost:8080/",
          "height": 34
        },
        "outputId": "611d266f-eb75-4e3d-f2b1-bc5a1fa731a3"
      },
      "source": [
        "hdf5_file = tables.open_file('drive/My Drive/homemade_origin3_2.h5', mode='r')\n",
        "x_train4 = np.array(hdf5_file.root.homemade_origin3_2)\n",
        "hdf5_file.close()\n",
        "print(x_train4.shape)"
      ],
      "execution_count": null,
      "outputs": [
        {
          "output_type": "stream",
          "text": [
            "(220, 160, 160, 3)\n"
          ],
          "name": "stdout"
        }
      ]
    },
    {
      "cell_type": "code",
      "metadata": {
        "id": "MrgvJQ-PD1Xh"
      },
      "source": [
        "x_train1=x_train1/255"
      ],
      "execution_count": null,
      "outputs": []
    },
    {
      "cell_type": "code",
      "metadata": {
        "id": "EO4UoQunEDBq",
        "colab": {
          "base_uri": "https://localhost:8080/",
          "height": 34
        },
        "outputId": "9e1881e4-73ea-4ce2-a0a9-5d4261fbb454"
      },
      "source": [
        "np.max(x_train1)"
      ],
      "execution_count": null,
      "outputs": [
        {
          "output_type": "execute_result",
          "data": {
            "text/plain": [
              "1.0"
            ]
          },
          "metadata": {
            "tags": []
          },
          "execution_count": 9
        }
      ]
    },
    {
      "cell_type": "code",
      "metadata": {
        "id": "imkXsNYA_JfI",
        "colab": {
          "base_uri": "https://localhost:8080/",
          "height": 34
        },
        "outputId": "9abd6ef8-7279-4631-9369-4598ec51979a"
      },
      "source": [
        "hdf5_file = tables.open_file('drive/My Drive/homemade_mask_hand1.h5', mode='r')\n",
        "y_train1 = np.array(hdf5_file.root.homemade_mask_hand1)\n",
        "hdf5_file.close()\n",
        "print(y_train1.shape)"
      ],
      "execution_count": null,
      "outputs": [
        {
          "output_type": "stream",
          "text": [
            "(258, 160, 160, 1)\n"
          ],
          "name": "stdout"
        }
      ]
    },
    {
      "cell_type": "code",
      "metadata": {
        "id": "Gagn5kn-ESEO",
        "colab": {
          "base_uri": "https://localhost:8080/",
          "height": 34
        },
        "outputId": "34e82378-9f6a-4ff3-d33e-1612567f6464"
      },
      "source": [
        "hdf5_file = tables.open_file('drive/My Drive/homemade_mask_hand2.h5', mode='r')\n",
        "y_train2 = np.array(hdf5_file.root.homemade_mask_hand2)\n",
        "hdf5_file.close()\n",
        "print(y_train2.shape)"
      ],
      "execution_count": null,
      "outputs": [
        {
          "output_type": "stream",
          "text": [
            "(100, 160, 160, 1)\n"
          ],
          "name": "stdout"
        }
      ]
    },
    {
      "cell_type": "code",
      "metadata": {
        "id": "d9YCbmzY-NdR",
        "colab": {
          "base_uri": "https://localhost:8080/",
          "height": 34
        },
        "outputId": "0a37c249-9a9e-4807-a82e-8f1db8a23061"
      },
      "source": [
        "np.max(x_train3)"
      ],
      "execution_count": null,
      "outputs": [
        {
          "output_type": "execute_result",
          "data": {
            "text/plain": [
              "1.0"
            ]
          },
          "metadata": {
            "tags": []
          },
          "execution_count": 69
        }
      ]
    },
    {
      "cell_type": "code",
      "metadata": {
        "id": "jihXQocuwycj"
      },
      "source": [
        "y_train1=y_train1/255\n",
        "#x_train2=x_train2/255"
      ],
      "execution_count": null,
      "outputs": []
    },
    {
      "cell_type": "code",
      "metadata": {
        "id": "iOW6ysRNjE5Y",
        "colab": {
          "base_uri": "https://localhost:8080/",
          "height": 34
        },
        "outputId": "e5f4ed34-4378-453c-ee2d-f02cea340564"
      },
      "source": [
        "hdf5_file = tables.open_file('drive/My Drive/homemade_origin3.h5', mode='r')\n",
        "x_train1 = np.array(hdf5_file.root.homemade_origin3)\n",
        "hdf5_file.close()\n",
        "print(x_train1.shape)"
      ],
      "execution_count": null,
      "outputs": [
        {
          "output_type": "stream",
          "text": [
            "(258, 160, 160, 3)\n"
          ],
          "name": "stdout"
        }
      ]
    },
    {
      "cell_type": "code",
      "metadata": {
        "id": "VzWQTzigjIOZ",
        "colab": {
          "base_uri": "https://localhost:8080/",
          "height": 34
        },
        "outputId": "15a7e121-3b4b-4114-ae3b-bbb89e202343"
      },
      "source": [
        "hdf5_file = tables.open_file('drive/My Drive/homemade_origin4.h5', mode='r')\n",
        "x_train2 = np.array(hdf5_file.root.homemade_origin4)\n",
        "hdf5_file.close()\n",
        "print(x_train2.shape)"
      ],
      "execution_count": null,
      "outputs": [
        {
          "output_type": "stream",
          "text": [
            "(100, 160, 160, 3)\n"
          ],
          "name": "stdout"
        }
      ]
    },
    {
      "cell_type": "code",
      "metadata": {
        "id": "fmIsMIaWjSkf",
        "colab": {
          "base_uri": "https://localhost:8080/",
          "height": 34
        },
        "outputId": "476f7123-8bba-4033-bf80-26bda2c069d2"
      },
      "source": [
        "import numpy as np\n",
        "\n",
        "#\n",
        "x_train5=np.concatenate((x_train5_1,x_train5_2),axis=0)\n",
        "print(x_train5.shape)"
      ],
      "execution_count": null,
      "outputs": [
        {
          "output_type": "stream",
          "text": [
            "(298, 160, 160, 3)\n"
          ],
          "name": "stdout"
        }
      ]
    },
    {
      "cell_type": "code",
      "metadata": {
        "id": "6fXlNQov0pBi",
        "colab": {
          "base_uri": "https://localhost:8080/",
          "height": 34
        },
        "outputId": "f8033b1a-6ad8-42cd-e311-d397e65fd6e1"
      },
      "source": [
        "x_train=np.concatenate((x_train1,x_train2,x_train3,x_train4),axis=0)\n",
        "print(x_train.shape)"
      ],
      "execution_count": null,
      "outputs": [
        {
          "output_type": "stream",
          "text": [
            "(618, 160, 160, 3)\n"
          ],
          "name": "stdout"
        }
      ]
    },
    {
      "cell_type": "code",
      "metadata": {
        "id": "OAAQz-dnSZbr",
        "colab": {
          "base_uri": "https://localhost:8080/",
          "height": 34
        },
        "outputId": "7ff8b4ed-9f9a-4806-a978-595b369615cd"
      },
      "source": [
        "y_train=np.concatenate((y_train1,y_train2,y_train3),axis=0)\n",
        "print(y_train.shape)"
      ],
      "execution_count": null,
      "outputs": [
        {
          "output_type": "stream",
          "text": [
            "(618, 160, 160, 1)\n"
          ],
          "name": "stdout"
        }
      ]
    },
    {
      "cell_type": "code",
      "metadata": {
        "id": "JyqX6EPB0txe",
        "colab": {
          "base_uri": "https://localhost:8080/",
          "height": 34
        },
        "outputId": "750a85f3-d466-446c-c6f7-5d97965308cb"
      },
      "source": [
        "print(y_train3.shape)"
      ],
      "execution_count": null,
      "outputs": [
        {
          "output_type": "stream",
          "text": [
            "(154, 160, 160, 1)\n"
          ],
          "name": "stdout"
        }
      ]
    },
    {
      "cell_type": "code",
      "metadata": {
        "id": "N5xGOyGNjaYT",
        "colab": {
          "base_uri": "https://localhost:8080/",
          "height": 34
        },
        "outputId": "54030c07-0af6-40a9-a251-34a20f69b275"
      },
      "source": [
        "hdf5_file = tables.open_file('drive/My Drive/homemade_mask_hand3.h5', mode='r')\n",
        "y_train3 = np.array(hdf5_file.root.homemade_mask_hand3)\n",
        "hdf5_file.close()\n",
        "print(y_train3.shape)"
      ],
      "execution_count": null,
      "outputs": [
        {
          "output_type": "stream",
          "text": [
            "(260, 160, 160, 1)\n"
          ],
          "name": "stdout"
        }
      ]
    },
    {
      "cell_type": "code",
      "metadata": {
        "id": "_EQquevO05sa",
        "colab": {
          "base_uri": "https://localhost:8080/",
          "height": 181
        },
        "outputId": "6b6064a1-e917-48a4-e5a4-e61ba038f2d2"
      },
      "source": [
        "y_train=np.concatenate((y_train3,y_train4),axis=0)\n",
        "print(y_train.shape)"
      ],
      "execution_count": null,
      "outputs": [
        {
          "output_type": "error",
          "ename": "NameError",
          "evalue": "ignored",
          "traceback": [
            "\u001b[0;31m---------------------------------------------------------------------------\u001b[0m",
            "\u001b[0;31mNameError\u001b[0m                                 Traceback (most recent call last)",
            "\u001b[0;32m<ipython-input-12-363f10140c68>\u001b[0m in \u001b[0;36m<module>\u001b[0;34m()\u001b[0m\n\u001b[0;32m----> 1\u001b[0;31m \u001b[0my_train\u001b[0m\u001b[0;34m=\u001b[0m\u001b[0mnp\u001b[0m\u001b[0;34m.\u001b[0m\u001b[0mconcatenate\u001b[0m\u001b[0;34m(\u001b[0m\u001b[0;34m(\u001b[0m\u001b[0my_train3\u001b[0m\u001b[0;34m,\u001b[0m\u001b[0my_train4\u001b[0m\u001b[0;34m)\u001b[0m\u001b[0;34m,\u001b[0m\u001b[0maxis\u001b[0m\u001b[0;34m=\u001b[0m\u001b[0;36m0\u001b[0m\u001b[0;34m)\u001b[0m\u001b[0;34m\u001b[0m\u001b[0;34m\u001b[0m\u001b[0m\n\u001b[0m\u001b[1;32m      2\u001b[0m \u001b[0mprint\u001b[0m\u001b[0;34m(\u001b[0m\u001b[0my_train\u001b[0m\u001b[0;34m.\u001b[0m\u001b[0mshape\u001b[0m\u001b[0;34m)\u001b[0m\u001b[0;34m\u001b[0m\u001b[0;34m\u001b[0m\u001b[0m\n",
            "\u001b[0;31mNameError\u001b[0m: name 'y_train4' is not defined"
          ]
        }
      ]
    },
    {
      "cell_type": "code",
      "metadata": {
        "id": "Hxgj1MqvXNyu",
        "colab": {
          "base_uri": "https://localhost:8080/",
          "height": 269
        },
        "outputId": "af22dac0-71a3-465a-82f5-c5052ae357d0"
      },
      "source": [
        "import matplotlib.pyplot as plt\n",
        "plt.imshow(x_train[-1])\n",
        "plt.show()\n"
      ],
      "execution_count": null,
      "outputs": [
        {
          "output_type": "display_data",
          "data": {
            "image/png": "[encoded data removed]",
            "text/plain": [
              "<Figure size 432x288 with 1 Axes>"
            ]
          },
          "metadata": {
            "tags": [],
            "needs_background": "light"
          }
        }
      ]
    },
    {
      "cell_type": "code",
      "metadata": {
        "id": "NZYMTsD-ab9W"
      },
      "source": [
        "from skimage.color import rgb2gray\n",
        "x_test = rgb2gray(x_test)\n",
        "x_train = rgb2gray(x_train)\n",
        "\n",
        "\n",
        "\n"
      ],
      "execution_count": null,
      "outputs": []
    },
    {
      "cell_type": "code",
      "metadata": {
        "id": "HtBTuaK2R8lp"
      },
      "source": [
        "x_test = rgb2gray(x_test)"
      ],
      "execution_count": null,
      "outputs": []
    },
    {
      "cell_type": "code",
      "metadata": {
        "id": "Eq2dA_dhRnqY",
        "colab": {
          "base_uri": "https://localhost:8080/",
          "height": 34
        },
        "outputId": "fb81da61-890b-4391-c97e-47ddda288302"
      },
      "source": [
        "hdf5_file = tables.open_file('drive/My Drive/homemade_mask_test.h5', mode='r')\n",
        "y_test = np.array(hdf5_file.root.homemade_mask_test)\n",
        "hdf5_file.close()\n",
        "print(y_test.shape)"
      ],
      "execution_count": null,
      "outputs": [
        {
          "output_type": "stream",
          "text": [
            "(38, 160, 160, 1)\n"
          ],
          "name": "stdout"
        }
      ]
    },
    {
      "cell_type": "code",
      "metadata": {
        "id": "UNBc9iMTRtBE",
        "colab": {
          "base_uri": "https://localhost:8080/",
          "height": 34
        },
        "outputId": "ad6c9098-eb69-4547-8c53-d1560195100b"
      },
      "source": [
        "hdf5_file = tables.open_file('drive/My Drive/homemade_origin_test.h5', mode='r')\n",
        "x_test = np.array(hdf5_file.root.homemade_origin_test)\n",
        "hdf5_file.close()\n",
        "print(x_test.shape)"
      ],
      "execution_count": null,
      "outputs": [
        {
          "output_type": "stream",
          "text": [
            "(38, 160, 160, 3)\n"
          ],
          "name": "stdout"
        }
      ]
    },
    {
      "cell_type": "code",
      "metadata": {
        "id": "cMa5K3EHfTYd",
        "colab": {
          "base_uri": "https://localhost:8080/",
          "height": 269
        },
        "outputId": "889e23f9-ceaf-456b-80a2-393a3e3cf9f6"
      },
      "source": [
        "plt.imshow(x_test[-1],cmap=\"gray\")\n",
        "plt.show()\n"
      ],
      "execution_count": null,
      "outputs": [
        {
          "output_type": "display_data",
          "data": {
            "image/png": "[encoded data removed]",
            "text/plain": [
              "<Figure size 432x288 with 1 Axes>"
            ]
          },
          "metadata": {
            "tags": [],
            "needs_background": "light"
          }
        }
      ]
    },
    {
      "cell_type": "code",
      "metadata": {
        "id": "CEErLjEEuhoT"
      },
      "source": [
        "x_train=x_train.reshape(618,160,160,1)\n",
        "x_test=x_test.reshape(38, 160, 160, 1)"
      ],
      "execution_count": null,
      "outputs": []
    },
    {
      "cell_type": "code",
      "metadata": {
        "id": "8sBgZt9ESCzp"
      },
      "source": [
        "x_test=x_test.reshape(38, 160, 160, 1)"
      ],
      "execution_count": null,
      "outputs": []
    },
    {
      "cell_type": "code",
      "metadata": {
        "id": "BrUVe6p-ujxe",
        "colab": {
          "base_uri": "https://localhost:8080/",
          "height": 34
        },
        "outputId": "ee30e803-4ccf-4568-b3b3-be122be68d6f"
      },
      "source": [
        "print(x_train.shape,x_test.shape)"
      ],
      "execution_count": null,
      "outputs": [
        {
          "output_type": "stream",
          "text": [
            "(618, 160, 160, 1) (38, 160, 160, 1)\n"
          ],
          "name": "stdout"
        }
      ]
    },
    {
      "cell_type": "code",
      "metadata": {
        "id": "itCpp7D2_dFH",
        "colab": {
          "base_uri": "https://localhost:8080/",
          "height": 34
        },
        "outputId": "d4f723cf-7ee3-4cb6-cb24-a8713b595a1c"
      },
      "source": [
        "np.max(y_test)"
      ],
      "execution_count": null,
      "outputs": [
        {
          "output_type": "execute_result",
          "data": {
            "text/plain": [
              "1.0"
            ]
          },
          "metadata": {
            "tags": []
          },
          "execution_count": 19
        }
      ]
    },
    {
      "cell_type": "code",
      "metadata": {
        "id": "mvLmeY2AbKuJ",
        "colab": {
          "base_uri": "https://localhost:8080/",
          "height": 269
        },
        "outputId": "0d17a758-5e9b-496d-938b-b8090e7f3499"
      },
      "source": [
        "test=y_train[-1]\n",
        "test=test.reshape(160,160)\n",
        "plt.imshow(test,cmap=\"gray\")\n",
        "plt.show()"
      ],
      "execution_count": null,
      "outputs": [
        {
          "output_type": "display_data",
          "data": {
            "image/png": "[encoded data removed]",
            "text/plain": [
              "<Figure size 432x288 with 1 Axes>"
            ]
          },
          "metadata": {
            "tags": [],
            "needs_background": "light"
          }
        }
      ]
    },
    {
      "cell_type": "code",
      "metadata": {
        "id": "kdXHJde-djXa",
        "colab": {
          "base_uri": "https://localhost:8080/",
          "height": 34
        },
        "outputId": "bb268a9d-9db3-4fef-effa-250029c8afcc"
      },
      "source": [
        "np.max(x_train)"
      ],
      "execution_count": null,
      "outputs": [
        {
          "output_type": "execute_result",
          "data": {
            "text/plain": [
              "0.99999994"
            ]
          },
          "metadata": {
            "tags": []
          },
          "execution_count": 41
        }
      ]
    },
    {
      "cell_type": "code",
      "metadata": {
        "id": "NxX_lMgn2ted"
      },
      "source": [
        "\n",
        "LR = LeakyReLU(alpha=0.1)\n",
        "LR.__name__ = 'leakyRelu'\n",
        "#input=Input(shape=(320, 320,3))\n",
        "input=Input(shape=(320, 320,1))\n",
        "layer1=Conv2D(16, (3, 3),padding='same')(input)\n",
        "##group 1\n",
        "def Residual_group1_unit(input):\n",
        "    ResG_1U = input\n",
        "    ResG_1U=BatchNormalization()(input)\n",
        "    ResG_1U=Activation(\"relu\")(ResG_1U)\n",
        "    ResG_1U=Conv2D(32, (1, 1),padding='same')(ResG_1U)\n",
        "    ResG_1U=BatchNormalization()(ResG_1U)\n",
        "    ResG_1U=Activation(\"relu\")(ResG_1U)\n",
        "    ResG_1U=Conv2D(32, (3, 3),padding='same')(ResG_1U)\n",
        "    ResG_1U=BatchNormalization()(ResG_1U)\n",
        "    ResG_1U = Activation(\"relu\")(ResG_1U)\n",
        "    #ResG_1U = LR(ResG_1U)\n",
        "    ResG_1U=Conv2D(32, (1, 1),padding='same')(ResG_1U)\n",
        "    ResG_1U=Add()([input,ResG_1U])\n",
        "    return  ResG_1U\n",
        "ResG_1U_1=Conv2D(32, (1, 1))(layer1)\n",
        "ResG_1U_1 = Activation(\"relu\")(ResG_1U_1)\n",
        "#ResG_1U_1=BatchNormalization()(ResG_1U_1)\n",
        "ResG_1U_1=Residual_group1_unit(ResG_1U_1)\n",
        "\n",
        "#ResG_1U_1=BatchNormalization()(ResG_1U_1)\n",
        "ResG_1U_2=Residual_group1_unit(ResG_1U_1)\n",
        "ResG_1U_3=Residual_group1_unit(ResG_1U_2)\n",
        "\n",
        "ResG_2U_1=Conv2D(64, (1, 1),strides=2)(ResG_1U_3)\n",
        "def Residual_group2_unit(input):\n",
        "    ResG_2U=input\n",
        "    ResG_2U=BatchNormalization()(input)\n",
        "    ResG_2U=Activation(\"relu\")(ResG_2U)\n",
        "    ResG_2U=Conv2D(64, (1, 1),padding='same')(ResG_2U)\n",
        "    ResG_2U=BatchNormalization()(ResG_2U)\n",
        "    ResG_2U=Activation(\"relu\")(ResG_2U)\n",
        "    ResG_2U=Conv2D(64, (3, 3),padding='same')(ResG_2U)\n",
        "    ResG_2U=BatchNormalization()(ResG_2U)\n",
        "    #ResG_2U = LR(ResG_2U)\n",
        "    ResG_2U = Activation(\"relu\")(ResG_2U)\n",
        "    ResG_2U=Conv2D(64, (1, 1),padding='same')(ResG_2U)\n",
        "    ResG_2U=Add()([input,ResG_2U])\n",
        "    return  ResG_2U\n",
        "#ResG_2U_1=BatchNormalization()(ResG_2U_1)\n",
        "ResG_2U_1=Residual_group2_unit(ResG_2U_1)\n",
        "ResG_2U_2=Residual_group2_unit(ResG_2U_1)\n",
        "ResG_2U_3=Residual_group2_unit(ResG_2U_2)\n",
        "\n",
        "ResG_3U_1=Conv2D(128, (1, 1),strides=2)(ResG_2U_3)\n",
        "def Residual_group3_unit(input):\n",
        "    ResG_3U=input\n",
        "    ResG_3U=BatchNormalization()(input)\n",
        "    ResG_3U=Activation(\"relu\")(ResG_3U)\n",
        "    ResG_3U=Conv2D(128, (1, 1),padding='same')(ResG_3U)\n",
        "    ResG_3U=BatchNormalization()(ResG_3U)\n",
        "    ResG_3U=Activation(\"relu\")(ResG_3U)\n",
        "    ResG_3U=Conv2D(128, (3, 3),padding='same')(ResG_3U)\n",
        "    ResG_3U=BatchNormalization()(ResG_3U)\n",
        "    #ResG_3U = LR(ResG_3U)\n",
        "    ResG_3U = Activation(\"relu\")(ResG_3U)\n",
        "    ResG_3U=Conv2D(128, (1, 1),padding='same')(ResG_3U)\n",
        "    ResG_3U=Add()([input,ResG_3U])\n",
        "    return  ResG_3U\n",
        "\n",
        "##load all layers into model\n",
        "#ResG_3U_1=BatchNormalization()(ResG_3U_1)\n",
        "ResG_3U_1=Residual_group3_unit(ResG_3U_1)\n",
        "ResG_3U_2=Residual_group3_unit(ResG_3U_1)\n",
        "ResG_3U_3=Residual_group3_unit(ResG_3U_2)\n",
        "\n",
        "Aspp1=Conv2D(32,(1,1),dilation_rate=1,activation='relu')(ResG_3U_3)\n",
        "Aspp2=Conv2D(32,(3,3),dilation_rate=3,padding='same',activation='relu')(ResG_3U_3)\n",
        "Aspp3=Conv2D(32,(3,3),dilation_rate=6,padding='same',activation='relu')(ResG_3U_3)\n",
        "Aspp4=Conv2D(32,(3,3),dilation_rate=12,padding='same',activation='relu')(ResG_3U_3)\n",
        "Aspp5=Conv2D(32,(3,3),dilation_rate=18,padding='same',activation='relu')(ResG_3U_3)\n",
        "\n",
        "Aspp=concatenate([Aspp1,Aspp2,Aspp3,Aspp4,Aspp5],axis=-1)\n",
        "\n",
        "drop_out_Aspp=Dropout(0.2)(Aspp)\n",
        "\n",
        "output_before_Upsample=Conv2D(1,(1,1),padding='same',activation='sigmoid')(drop_out_Aspp)\n",
        "#upsampling\n",
        "#output=output_before_Upsample\n",
        "output=UpSampling2D((4,4),interpolation='bilinear')(output_before_Upsample)\n",
        "\n",
        "model=Model(inputs=input,outputs=output)\n",
        "model.summary()"
      ],
      "execution_count": null,
      "outputs": []
    },
    {
      "cell_type": "code",
      "metadata": {
        "id": "fDbVHBgZYVrh",
        "colab": {
          "base_uri": "https://localhost:8080/",
          "height": 1000
        },
        "outputId": "a9720e7a-d662-436a-d5ed-46add131fc16"
      },
      "source": [
        "################input size 160*160*1\n",
        "\n",
        "input=Input(shape=(160, 160,1))\n",
        "layer1=Conv2D(16, (3, 3),padding='same')(input)\n",
        "##group 1\n",
        "def Residual_group1_unit(input):\n",
        "    ResG_1U = input\n",
        "    ResG_1U=BatchNormalization()(input)\n",
        "    ResG_1U=Activation(\"relu\")(ResG_1U)\n",
        "    ResG_1U=Conv2D(32, (1, 1),padding='same')(ResG_1U)\n",
        "    ResG_1U=BatchNormalization()(ResG_1U)\n",
        "    ResG_1U=Activation(\"relu\")(ResG_1U)\n",
        "    ResG_1U=Conv2D(64, (3, 3),padding='same')(ResG_1U)\n",
        "    ResG_1U=BatchNormalization()(ResG_1U)\n",
        "    ResG_1U = Activation(\"relu\")(ResG_1U)\n",
        "    #ResG_1U = LR(ResG_1U)\n",
        "    ResG_1U=Conv2D(32, (1, 1),padding='same')(ResG_1U)\n",
        "    ResG_1U=Add()([input,ResG_1U])\n",
        "    return  ResG_1U\n",
        "ResG_1U_1=Conv2D(32, (1, 1))(layer1)\n",
        "ResG_1U_1 = Activation(\"relu\")(ResG_1U_1)\n",
        "#ResG_1U_1=BatchNormalization()(ResG_1U_1)\n",
        "ResG_1U_1=Residual_group1_unit(ResG_1U_1)\n",
        "\n",
        "#ResG_1U_1=BatchNormalization()(ResG_1U_1)\n",
        "ResG_1U_2=Residual_group1_unit(ResG_1U_1)\n",
        "ResG_1U_3=Residual_group1_unit(ResG_1U_2)\n",
        "\n",
        "ResG_2U_1=Conv2D(64, (1, 1),strides=2)(ResG_1U_3)\n",
        "def Residual_group2_unit(input):\n",
        "    ResG_2U=input\n",
        "    ResG_2U=BatchNormalization()(input)\n",
        "    ResG_2U=Activation(\"relu\")(ResG_2U)\n",
        "    ResG_2U=Conv2D(64, (1, 1),padding='same')(ResG_2U)\n",
        "    ResG_2U=BatchNormalization()(ResG_2U)\n",
        "    ResG_2U=Activation(\"relu\")(ResG_2U)\n",
        "    ResG_2U=Conv2D(128, (3, 3),padding='same')(ResG_2U)\n",
        "    ResG_2U=BatchNormalization()(ResG_2U)\n",
        "    #ResG_2U = LR(ResG_2U)\n",
        "    ResG_2U = Activation(\"relu\")(ResG_2U)\n",
        "    ResG_2U=Conv2D(64, (1, 1),padding='same')(ResG_2U)\n",
        "    ResG_2U=Add()([input,ResG_2U])\n",
        "    return  ResG_2U\n",
        "#ResG_2U_1=BatchNormalization()(ResG_2U_1)\n",
        "ResG_2U_1=Residual_group2_unit(ResG_2U_1)\n",
        "ResG_2U_2=Residual_group2_unit(ResG_2U_1)\n",
        "ResG_2U_3=Residual_group2_unit(ResG_2U_2)\n",
        "\n",
        "ResG_3U_1=Conv2D(128, (1, 1),strides=2)(ResG_2U_3)\n",
        "def Residual_group3_unit(input):\n",
        "    ResG_3U=input\n",
        "    ResG_3U=BatchNormalization()(input)\n",
        "    ResG_3U=Activation(\"relu\")(ResG_3U)\n",
        "    ResG_3U=Conv2D(128, (1, 1),padding='same')(ResG_3U)\n",
        "    ResG_3U=BatchNormalization()(ResG_3U)\n",
        "    ResG_3U=Activation(\"relu\")(ResG_3U)\n",
        "\n",
        "    #ResG_3U=Dropout(0.4)(ResG_3U)\n",
        "\n",
        "    ResG_3U=Conv2D(256, (3, 3),padding='same')(ResG_3U)\n",
        "    ResG_3U=BatchNormalization()(ResG_3U)\n",
        "    #ResG_3U = LR(ResG_3U)\n",
        "    ResG_3U = Activation(\"relu\")(ResG_3U)\n",
        "    ResG_3U=Conv2D(128, (1, 1),padding='same')(ResG_3U)\n",
        "    ResG_3U=Add()([input,ResG_3U])\n",
        "    return  ResG_3U\n",
        "\n",
        "##load all layers into model\n",
        "#ResG_3U_1=BatchNormalization()(ResG_3U_1)\n",
        "ResG_3U_1=Residual_group3_unit(ResG_3U_1)\n",
        "ResG_3U_2=Residual_group3_unit(ResG_3U_1)\n",
        "ResG_3U_3=Residual_group3_unit(ResG_3U_2)\n",
        "\n",
        "Aspp1=Conv2D(32,(1,1),dilation_rate=1,activation='relu')(ResG_3U_3)\n",
        "Aspp2=Conv2D(32,(3,3),dilation_rate=3,padding='same',activation='relu')(ResG_3U_3)\n",
        "Aspp3=Conv2D(32,(3,3),dilation_rate=6,padding='same',activation='relu')(ResG_3U_3)\n",
        "Aspp4=Conv2D(32,(3,3),dilation_rate=12,padding='same',activation='relu')(ResG_3U_3)\n",
        "Aspp5=Conv2D(32,(3,3),dilation_rate=18,padding='same',activation='relu')(ResG_3U_3)\n",
        "\n",
        "Aspp=concatenate([Aspp1,Aspp2,Aspp3,Aspp4,Aspp5],axis=-1)\n",
        "\n",
        "drop_out_Aspp=Dropout(0.2)(Aspp)\n",
        "#drop_out_Aspp=Dropout(0.4)(Aspp)\n",
        "output_before_Upsample=Conv2D(1,(1,1),padding='same',activation='sigmoid')(drop_out_Aspp)\n",
        "#upsampling\n",
        "#output=output_before_Upsample\n",
        "output=UpSampling2D((4,4),interpolation='bilinear')(output_before_Upsample)\n",
        "\n",
        "model=Model(inputs=input,outputs=output)\n",
        "model.summary()"
      ],
      "execution_count": null,
      "outputs": [
        {
          "output_type": "stream",
          "text": [
            "Model: \"model_1\"\n",
            "__________________________________________________________________________________________________\n",
            "Layer (type)                    Output Shape         Param #     Connected to                     \n",
            "==================================================================================================\n",
            "input_1 (InputLayer)            (None, 160, 160, 1)  0                                            \n",
            "__________________________________________________________________________________________________\n",
            "conv2d_1 (Conv2D)               (None, 160, 160, 16) 160         input_1[0][0]                    \n",
            "__________________________________________________________________________________________________\n",
            "conv2d_2 (Conv2D)               (None, 160, 160, 32) 544         conv2d_1[0][0]                   \n",
            "__________________________________________________________________________________________________\n",
            "activation_1 (Activation)       (None, 160, 160, 32) 0           conv2d_2[0][0]                   \n",
            "__________________________________________________________________________________________________\n",
            "batch_normalization_1 (BatchNor (None, 160, 160, 32) 128         activation_1[0][0]               \n",
            "__________________________________________________________________________________________________\n",
            "activation_2 (Activation)       (None, 160, 160, 32) 0           batch_normalization_1[0][0]      \n",
            "__________________________________________________________________________________________________\n",
            "conv2d_3 (Conv2D)               (None, 160, 160, 32) 1056        activation_2[0][0]               \n",
            "__________________________________________________________________________________________________\n",
            "batch_normalization_2 (BatchNor (None, 160, 160, 32) 128         conv2d_3[0][0]                   \n",
            "__________________________________________________________________________________________________\n",
            "activation_3 (Activation)       (None, 160, 160, 32) 0           batch_normalization_2[0][0]      \n",
            "__________________________________________________________________________________________________\n",
            "conv2d_4 (Conv2D)               (None, 160, 160, 64) 18496       activation_3[0][0]               \n",
            "__________________________________________________________________________________________________\n",
            "batch_normalization_3 (BatchNor (None, 160, 160, 64) 256         conv2d_4[0][0]                   \n",
            "__________________________________________________________________________________________________\n",
            "activation_4 (Activation)       (None, 160, 160, 64) 0           batch_normalization_3[0][0]      \n",
            "__________________________________________________________________________________________________\n",
            "conv2d_5 (Conv2D)               (None, 160, 160, 32) 2080        activation_4[0][0]               \n",
            "__________________________________________________________________________________________________\n",
            "add_1 (Add)                     (None, 160, 160, 32) 0           activation_1[0][0]               \n",
            "                                                                 conv2d_5[0][0]                   \n",
            "__________________________________________________________________________________________________\n",
            "batch_normalization_4 (BatchNor (None, 160, 160, 32) 128         add_1[0][0]                      \n",
            "__________________________________________________________________________________________________\n",
            "activation_5 (Activation)       (None, 160, 160, 32) 0           batch_normalization_4[0][0]      \n",
            "__________________________________________________________________________________________________\n",
            "conv2d_6 (Conv2D)               (None, 160, 160, 32) 1056        activation_5[0][0]               \n",
            "__________________________________________________________________________________________________\n",
            "batch_normalization_5 (BatchNor (None, 160, 160, 32) 128         conv2d_6[0][0]                   \n",
            "__________________________________________________________________________________________________\n",
            "activation_6 (Activation)       (None, 160, 160, 32) 0           batch_normalization_5[0][0]      \n",
            "__________________________________________________________________________________________________\n",
            "conv2d_7 (Conv2D)               (None, 160, 160, 64) 18496       activation_6[0][0]               \n",
            "__________________________________________________________________________________________________\n",
            "batch_normalization_6 (BatchNor (None, 160, 160, 64) 256         conv2d_7[0][0]                   \n",
            "__________________________________________________________________________________________________\n",
            "activation_7 (Activation)       (None, 160, 160, 64) 0           batch_normalization_6[0][0]      \n",
            "__________________________________________________________________________________________________\n",
            "conv2d_8 (Conv2D)               (None, 160, 160, 32) 2080        activation_7[0][0]               \n",
            "__________________________________________________________________________________________________\n",
            "add_2 (Add)                     (None, 160, 160, 32) 0           add_1[0][0]                      \n",
            "                                                                 conv2d_8[0][0]                   \n",
            "__________________________________________________________________________________________________\n",
            "batch_normalization_7 (BatchNor (None, 160, 160, 32) 128         add_2[0][0]                      \n",
            "__________________________________________________________________________________________________\n",
            "activation_8 (Activation)       (None, 160, 160, 32) 0           batch_normalization_7[0][0]      \n",
            "__________________________________________________________________________________________________\n",
            "conv2d_9 (Conv2D)               (None, 160, 160, 32) 1056        activation_8[0][0]               \n",
            "__________________________________________________________________________________________________\n",
            "batch_normalization_8 (BatchNor (None, 160, 160, 32) 128         conv2d_9[0][0]                   \n",
            "__________________________________________________________________________________________________\n",
            "activation_9 (Activation)       (None, 160, 160, 32) 0           batch_normalization_8[0][0]      \n",
            "__________________________________________________________________________________________________\n",
            "conv2d_10 (Conv2D)              (None, 160, 160, 64) 18496       activation_9[0][0]               \n",
            "__________________________________________________________________________________________________\n",
            "batch_normalization_9 (BatchNor (None, 160, 160, 64) 256         conv2d_10[0][0]                  \n",
            "__________________________________________________________________________________________________\n",
            "activation_10 (Activation)      (None, 160, 160, 64) 0           batch_normalization_9[0][0]      \n",
            "__________________________________________________________________________________________________\n",
            "conv2d_11 (Conv2D)              (None, 160, 160, 32) 2080        activation_10[0][0]              \n",
            "__________________________________________________________________________________________________\n",
            "add_3 (Add)                     (None, 160, 160, 32) 0           add_2[0][0]                      \n",
            "                                                                 conv2d_11[0][0]                  \n",
            "__________________________________________________________________________________________________\n",
            "conv2d_12 (Conv2D)              (None, 80, 80, 64)   2112        add_3[0][0]                      \n",
            "__________________________________________________________________________________________________\n",
            "batch_normalization_10 (BatchNo (None, 80, 80, 64)   256         conv2d_12[0][0]                  \n",
            "__________________________________________________________________________________________________\n",
            "activation_11 (Activation)      (None, 80, 80, 64)   0           batch_normalization_10[0][0]     \n",
            "__________________________________________________________________________________________________\n",
            "conv2d_13 (Conv2D)              (None, 80, 80, 64)   4160        activation_11[0][0]              \n",
            "__________________________________________________________________________________________________\n",
            "batch_normalization_11 (BatchNo (None, 80, 80, 64)   256         conv2d_13[0][0]                  \n",
            "__________________________________________________________________________________________________\n",
            "activation_12 (Activation)      (None, 80, 80, 64)   0           batch_normalization_11[0][0]     \n",
            "__________________________________________________________________________________________________\n",
            "conv2d_14 (Conv2D)              (None, 80, 80, 128)  73856       activation_12[0][0]              \n",
            "__________________________________________________________________________________________________\n",
            "batch_normalization_12 (BatchNo (None, 80, 80, 128)  512         conv2d_14[0][0]                  \n",
            "__________________________________________________________________________________________________\n",
            "activation_13 (Activation)      (None, 80, 80, 128)  0           batch_normalization_12[0][0]     \n",
            "__________________________________________________________________________________________________\n",
            "conv2d_15 (Conv2D)              (None, 80, 80, 64)   8256        activation_13[0][0]              \n",
            "__________________________________________________________________________________________________\n",
            "add_4 (Add)                     (None, 80, 80, 64)   0           conv2d_12[0][0]                  \n",
            "                                                                 conv2d_15[0][0]                  \n",
            "__________________________________________________________________________________________________\n",
            "batch_normalization_13 (BatchNo (None, 80, 80, 64)   256         add_4[0][0]                      \n",
            "__________________________________________________________________________________________________\n",
            "activation_14 (Activation)      (None, 80, 80, 64)   0           batch_normalization_13[0][0]     \n",
            "__________________________________________________________________________________________________\n",
            "conv2d_16 (Conv2D)              (None, 80, 80, 64)   4160        activation_14[0][0]              \n",
            "__________________________________________________________________________________________________\n",
            "batch_normalization_14 (BatchNo (None, 80, 80, 64)   256         conv2d_16[0][0]                  \n",
            "__________________________________________________________________________________________________\n",
            "activation_15 (Activation)      (None, 80, 80, 64)   0           batch_normalization_14[0][0]     \n",
            "__________________________________________________________________________________________________\n",
            "conv2d_17 (Conv2D)              (None, 80, 80, 128)  73856       activation_15[0][0]              \n",
            "__________________________________________________________________________________________________\n",
            "batch_normalization_15 (BatchNo (None, 80, 80, 128)  512         conv2d_17[0][0]                  \n",
            "__________________________________________________________________________________________________\n",
            "activation_16 (Activation)      (None, 80, 80, 128)  0           batch_normalization_15[0][0]     \n",
            "__________________________________________________________________________________________________\n",
            "conv2d_18 (Conv2D)              (None, 80, 80, 64)   8256        activation_16[0][0]              \n",
            "__________________________________________________________________________________________________\n",
            "add_5 (Add)                     (None, 80, 80, 64)   0           add_4[0][0]                      \n",
            "                                                                 conv2d_18[0][0]                  \n",
            "__________________________________________________________________________________________________\n",
            "batch_normalization_16 (BatchNo (None, 80, 80, 64)   256         add_5[0][0]                      \n",
            "__________________________________________________________________________________________________\n",
            "activation_17 (Activation)      (None, 80, 80, 64)   0           batch_normalization_16[0][0]     \n",
            "__________________________________________________________________________________________________\n",
            "conv2d_19 (Conv2D)              (None, 80, 80, 64)   4160        activation_17[0][0]              \n",
            "__________________________________________________________________________________________________\n",
            "batch_normalization_17 (BatchNo (None, 80, 80, 64)   256         conv2d_19[0][0]                  \n",
            "__________________________________________________________________________________________________\n",
            "activation_18 (Activation)      (None, 80, 80, 64)   0           batch_normalization_17[0][0]     \n",
            "__________________________________________________________________________________________________\n",
            "conv2d_20 (Conv2D)              (None, 80, 80, 128)  73856       activation_18[0][0]              \n",
            "__________________________________________________________________________________________________\n",
            "batch_normalization_18 (BatchNo (None, 80, 80, 128)  512         conv2d_20[0][0]                  \n",
            "__________________________________________________________________________________________________\n",
            "activation_19 (Activation)      (None, 80, 80, 128)  0           batch_normalization_18[0][0]     \n",
            "__________________________________________________________________________________________________\n",
            "conv2d_21 (Conv2D)              (None, 80, 80, 64)   8256        activation_19[0][0]              \n",
            "__________________________________________________________________________________________________\n",
            "add_6 (Add)                     (None, 80, 80, 64)   0           add_5[0][0]                      \n",
            "                                                                 conv2d_21[0][0]                  \n",
            "__________________________________________________________________________________________________\n",
            "conv2d_22 (Conv2D)              (None, 40, 40, 128)  8320        add_6[0][0]                      \n",
            "__________________________________________________________________________________________________\n",
            "batch_normalization_19 (BatchNo (None, 40, 40, 128)  512         conv2d_22[0][0]                  \n",
            "__________________________________________________________________________________________________\n",
            "activation_20 (Activation)      (None, 40, 40, 128)  0           batch_normalization_19[0][0]     \n",
            "__________________________________________________________________________________________________\n",
            "conv2d_23 (Conv2D)              (None, 40, 40, 128)  16512       activation_20[0][0]              \n",
            "__________________________________________________________________________________________________\n",
            "batch_normalization_20 (BatchNo (None, 40, 40, 128)  512         conv2d_23[0][0]                  \n",
            "__________________________________________________________________________________________________\n",
            "activation_21 (Activation)      (None, 40, 40, 128)  0           batch_normalization_20[0][0]     \n",
            "__________________________________________________________________________________________________\n",
            "conv2d_24 (Conv2D)              (None, 40, 40, 256)  295168      activation_21[0][0]              \n",
            "__________________________________________________________________________________________________\n",
            "batch_normalization_21 (BatchNo (None, 40, 40, 256)  1024        conv2d_24[0][0]                  \n",
            "__________________________________________________________________________________________________\n",
            "activation_22 (Activation)      (None, 40, 40, 256)  0           batch_normalization_21[0][0]     \n",
            "__________________________________________________________________________________________________\n",
            "conv2d_25 (Conv2D)              (None, 40, 40, 128)  32896       activation_22[0][0]              \n",
            "__________________________________________________________________________________________________\n",
            "add_7 (Add)                     (None, 40, 40, 128)  0           conv2d_22[0][0]                  \n",
            "                                                                 conv2d_25[0][0]                  \n",
            "__________________________________________________________________________________________________\n",
            "batch_normalization_22 (BatchNo (None, 40, 40, 128)  512         add_7[0][0]                      \n",
            "__________________________________________________________________________________________________\n",
            "activation_23 (Activation)      (None, 40, 40, 128)  0           batch_normalization_22[0][0]     \n",
            "__________________________________________________________________________________________________\n",
            "conv2d_26 (Conv2D)              (None, 40, 40, 128)  16512       activation_23[0][0]              \n",
            "__________________________________________________________________________________________________\n",
            "batch_normalization_23 (BatchNo (None, 40, 40, 128)  512         conv2d_26[0][0]                  \n",
            "__________________________________________________________________________________________________\n",
            "activation_24 (Activation)      (None, 40, 40, 128)  0           batch_normalization_23[0][0]     \n",
            "__________________________________________________________________________________________________\n",
            "conv2d_27 (Conv2D)              (None, 40, 40, 256)  295168      activation_24[0][0]              \n",
            "__________________________________________________________________________________________________\n",
            "batch_normalization_24 (BatchNo (None, 40, 40, 256)  1024        conv2d_27[0][0]                  \n",
            "__________________________________________________________________________________________________\n",
            "activation_25 (Activation)      (None, 40, 40, 256)  0           batch_normalization_24[0][0]     \n",
            "__________________________________________________________________________________________________\n",
            "conv2d_28 (Conv2D)              (None, 40, 40, 128)  32896       activation_25[0][0]              \n",
            "__________________________________________________________________________________________________\n",
            "add_8 (Add)                     (None, 40, 40, 128)  0           add_7[0][0]                      \n",
            "                                                                 conv2d_28[0][0]                  \n",
            "__________________________________________________________________________________________________\n",
            "batch_normalization_25 (BatchNo (None, 40, 40, 128)  512         add_8[0][0]                      \n",
            "__________________________________________________________________________________________________\n",
            "activation_26 (Activation)      (None, 40, 40, 128)  0           batch_normalization_25[0][0]     \n",
            "__________________________________________________________________________________________________\n",
            "conv2d_29 (Conv2D)              (None, 40, 40, 128)  16512       activation_26[0][0]              \n",
            "__________________________________________________________________________________________________\n",
            "batch_normalization_26 (BatchNo (None, 40, 40, 128)  512         conv2d_29[0][0]                  \n",
            "__________________________________________________________________________________________________\n",
            "activation_27 (Activation)      (None, 40, 40, 128)  0           batch_normalization_26[0][0]     \n",
            "__________________________________________________________________________________________________\n",
            "conv2d_30 (Conv2D)              (None, 40, 40, 256)  295168      activation_27[0][0]              \n",
            "__________________________________________________________________________________________________\n",
            "batch_normalization_27 (BatchNo (None, 40, 40, 256)  1024        conv2d_30[0][0]                  \n",
            "__________________________________________________________________________________________________\n",
            "activation_28 (Activation)      (None, 40, 40, 256)  0           batch_normalization_27[0][0]     \n",
            "__________________________________________________________________________________________________\n",
            "conv2d_31 (Conv2D)              (None, 40, 40, 128)  32896       activation_28[0][0]              \n",
            "__________________________________________________________________________________________________\n",
            "add_9 (Add)                     (None, 40, 40, 128)  0           add_8[0][0]                      \n",
            "                                                                 conv2d_31[0][0]                  \n",
            "__________________________________________________________________________________________________\n",
            "conv2d_32 (Conv2D)              (None, 40, 40, 32)   4128        add_9[0][0]                      \n",
            "__________________________________________________________________________________________________\n",
            "conv2d_33 (Conv2D)              (None, 40, 40, 32)   36896       add_9[0][0]                      \n",
            "__________________________________________________________________________________________________\n",
            "conv2d_34 (Conv2D)              (None, 40, 40, 32)   36896       add_9[0][0]                      \n",
            "__________________________________________________________________________________________________\n",
            "conv2d_35 (Conv2D)              (None, 40, 40, 32)   36896       add_9[0][0]                      \n",
            "__________________________________________________________________________________________________\n",
            "conv2d_36 (Conv2D)              (None, 40, 40, 32)   36896       add_9[0][0]                      \n",
            "__________________________________________________________________________________________________\n",
            "concatenate_1 (Concatenate)     (None, 40, 40, 160)  0           conv2d_32[0][0]                  \n",
            "                                                                 conv2d_33[0][0]                  \n",
            "                                                                 conv2d_34[0][0]                  \n",
            "                                                                 conv2d_35[0][0]                  \n",
            "                                                                 conv2d_36[0][0]                  \n",
            "__________________________________________________________________________________________________\n",
            "dropout_1 (Dropout)             (None, 40, 40, 160)  0           concatenate_1[0][0]              \n",
            "__________________________________________________________________________________________________\n",
            "conv2d_37 (Conv2D)              (None, 40, 40, 1)    161         dropout_1[0][0]                  \n",
            "__________________________________________________________________________________________________\n",
            "up_sampling2d_1 (UpSampling2D)  (None, 160, 160, 1)  0           conv2d_37[0][0]                  \n",
            "==================================================================================================\n",
            "Total params: 1,531,201\n",
            "Trainable params: 1,525,825\n",
            "Non-trainable params: 5,376\n",
            "__________________________________________________________________________________________________\n"
          ],
          "name": "stdout"
        }
      ]
    },
    {
      "cell_type": "code",
      "metadata": {
        "id": "fG95pjIuvAsJ",
        "colab": {
          "base_uri": "https://localhost:8080/",
          "height": 85
        },
        "outputId": "9bab2f36-936d-40c7-8aed-e3030b1b9a0f"
      },
      "source": [
        "print(x_train.shape)\n",
        "print(x_test.shape)\n",
        "print(y_train.shape)\n",
        "print(y_test.shape)"
      ],
      "execution_count": null,
      "outputs": [
        {
          "output_type": "stream",
          "text": [
            "(618, 160, 160, 1)\n",
            "(38, 160, 160, 1)\n",
            "(618, 160, 160, 1)\n",
            "(38, 160, 160, 1)\n"
          ],
          "name": "stdout"
        }
      ]
    },
    {
      "cell_type": "code",
      "metadata": {
        "id": "7AGHfRW_jC2s"
      },
      "source": [
        "from keras.preprocessing.image import ImageDataGenerator\n",
        "datagen=ImageDataGenerator(rotation_range=40, shear_range=0.25,zoom_range=0.15)"
      ],
      "execution_count": null,
      "outputs": []
    },
    {
      "cell_type": "code",
      "metadata": {
        "id": "YfkU1avKjxoX"
      },
      "source": [
        "datagen.fit(x_train)"
      ],
      "execution_count": null,
      "outputs": []
    },
    {
      "cell_type": "code",
      "metadata": {
        "id": "howXRn7g3CWT"
      },
      "source": [
        "\n",
        "opt = keras.optimizers.Adam(learning_rate=0.005,beta_1=0.9,beta_2=0.999)\n",
        "import keras.backend as K\n",
        "#def customeloss(yTrue,yPred):\n",
        "    #return K.sum(-((yTrue*K.log(K.sigmoid(yPred)+epsilon))+(1-yTrue)*K.log(1-K.sigmoid(yPred)-epsilon)))/716\n",
        "model.compile(optimizer=opt, loss='binary_crossentropy',metrics=['accuracy'])\n"
      ],
      "execution_count": null,
      "outputs": []
    },
    {
      "cell_type": "code",
      "metadata": {
        "id": "EotdxNoyj9B8"
      },
      "source": [
        "history=model.fit_generator(datagen.flow(x_train, y_train, batch_size=32) , epochs=150, verbose=1, validation_data=(x_test, y_test))\n",
        "#model.fit_generator(datagen.flow(x_train,y_train,batch_size=8),epochs=100, validation_data=(x_test, y_test))\n",
        "model.save('model2.h5')"
      ],
      "execution_count": null,
      "outputs": []
    },
    {
      "cell_type": "code",
      "metadata": {
        "id": "wwyvWJtSj8bN",
        "colab": {
          "base_uri": "https://localhost:8080/",
          "height": 235
        },
        "outputId": "b4b9821c-e8c8-459c-aeb0-45d2fba1fee0"
      },
      "source": [
        "history=model.fit(x_train, y_train, epochs=100, batch_size=20, verbose=1, validation_data=(x_test, y_test))\n",
        "#model.fit_generator(datagen.flow(x_train,y_train,batch_size=8),epochs=100, validation_data=(x_test, y_test))\n",
        "#history=model.fit(x_train, y_train, epochs=150, batch_size=20, verbose=1)\n",
        "model.save('4model7.h5')"
      ],
      "execution_count": null,
      "outputs": [
        {
          "output_type": "error",
          "ename": "NameError",
          "evalue": "ignored",
          "traceback": [
            "\u001b[0;31m---------------------------------------------------------------------------\u001b[0m",
            "\u001b[0;31mNameError\u001b[0m                                 Traceback (most recent call last)",
            "\u001b[0;32m<ipython-input-1-80fbaf094877>\u001b[0m in \u001b[0;36m<module>\u001b[0;34m()\u001b[0m\n\u001b[0;32m----> 1\u001b[0;31m \u001b[0mhistory\u001b[0m\u001b[0;34m=\u001b[0m\u001b[0mmodel\u001b[0m\u001b[0;34m.\u001b[0m\u001b[0mfit\u001b[0m\u001b[0;34m(\u001b[0m\u001b[0mx_train\u001b[0m\u001b[0;34m,\u001b[0m \u001b[0my_train\u001b[0m\u001b[0;34m,\u001b[0m \u001b[0mepochs\u001b[0m\u001b[0;34m=\u001b[0m\u001b[0;36m100\u001b[0m\u001b[0;34m,\u001b[0m \u001b[0mbatch_size\u001b[0m\u001b[0;34m=\u001b[0m\u001b[0;36m20\u001b[0m\u001b[0;34m,\u001b[0m \u001b[0mverbose\u001b[0m\u001b[0;34m=\u001b[0m\u001b[0;36m1\u001b[0m\u001b[0;34m,\u001b[0m \u001b[0mvalidation_data\u001b[0m\u001b[0;34m=\u001b[0m\u001b[0;34m(\u001b[0m\u001b[0mx_test\u001b[0m\u001b[0;34m,\u001b[0m \u001b[0my_test\u001b[0m\u001b[0;34m)\u001b[0m\u001b[0;34m)\u001b[0m\u001b[0;34m\u001b[0m\u001b[0;34m\u001b[0m\u001b[0m\n\u001b[0m\u001b[1;32m      2\u001b[0m \u001b[0;31m#model.fit_generator(datagen.flow(x_train,y_train,batch_size=8),epochs=100, validation_data=(x_test, y_test))\u001b[0m\u001b[0;34m\u001b[0m\u001b[0;34m\u001b[0m\u001b[0;34m\u001b[0m\u001b[0m\n\u001b[1;32m      3\u001b[0m \u001b[0;31m#history=model.fit(x_train, y_train, epochs=150, batch_size=20, verbose=1)\u001b[0m\u001b[0;34m\u001b[0m\u001b[0;34m\u001b[0m\u001b[0;34m\u001b[0m\u001b[0m\n\u001b[1;32m      4\u001b[0m \u001b[0mmodel\u001b[0m\u001b[0;34m.\u001b[0m\u001b[0msave\u001b[0m\u001b[0;34m(\u001b[0m\u001b[0;34m'4model7.h5'\u001b[0m\u001b[0;34m)\u001b[0m\u001b[0;34m\u001b[0m\u001b[0;34m\u001b[0m\u001b[0m\n",
            "\u001b[0;31mNameError\u001b[0m: name 'model' is not defined"
          ]
        }
      ]
    },
    {
      "cell_type": "code",
      "metadata": {
        "id": "pb_9UV0rlHYS"
      },
      "source": [
        ""
      ],
      "execution_count": null,
      "outputs": []
    },
    {
      "cell_type": "code",
      "metadata": {
        "id": "it95eGuhf6zK",
        "colab": {
          "base_uri": "https://localhost:8080/",
          "height": 295
        },
        "outputId": "05c97f55-365e-4d1f-bd76-596bf6d10267"
      },
      "source": [
        "\n",
        "plt.plot(history.history['loss'])\n",
        "plt.plot(history.history['val_loss'])\n",
        "plt.title('model loss')\n",
        "plt.ylabel('loss')\n",
        "plt.xlabel('epoch')\n",
        "plt.legend(['train', 'validation'], loc='upper left')\n",
        "plt.show()"
      ],
      "execution_count": null,
      "outputs": [
        {
          "output_type": "display_data",
          "data": {
            "image/png": "[encoded data removed]",
            "text/plain": [
              "<Figure size 432x288 with 1 Axes>"
            ]
          },
          "metadata": {
            "tags": [],
            "needs_background": "light"
          }
        }
      ]
    },
    {
      "cell_type": "code",
      "metadata": {
        "id": "ELoA6_8eZiV8"
      },
      "source": [
        ""
      ],
      "execution_count": null,
      "outputs": []
    },
    {
      "cell_type": "code",
      "metadata": {
        "id": "k1W3Obh13Npt",
        "colab": {
          "base_uri": "https://localhost:8080/",
          "height": 497
        },
        "outputId": "2edb7105-6db6-4018-865c-048bd7d82769"
      },
      "source": [
        "def customeloss(yTrue,yPred):\n",
        "    return K.sum(-((yTrue*K.log(K.sigmoid(yPred)+epsilon))+(1-yTrue)*K.log(1-K.sigmoid(yPred)+epsilon)))/716\n",
        "from matplotlib import pyplot as plt\n",
        "from keras.models import load_model\n",
        "model = load_model(\"testmodel.h5\",custom_objects={'customeloss': customeloss})\n",
        "model1 = load_model(\"testmodel1.h5\",custom_objects={'customeloss': customeloss})\n",
        "#model2 = load_model(\"testmodel2.h5\",custom_objects={'customeloss': customeloss,'leakyRelu':LR})"
      ],
      "execution_count": null,
      "outputs": [
        {
          "output_type": "error",
          "ename": "OSError",
          "evalue": "ignored",
          "traceback": [
            "\u001b[0;31m---------------------------------------------------------------------------\u001b[0m",
            "\u001b[0;31mOSError\u001b[0m                                   Traceback (most recent call last)",
            "\u001b[0;32m<ipython-input-25-7e26f99fa6fb>\u001b[0m in \u001b[0;36m<module>\u001b[0;34m()\u001b[0m\n\u001b[1;32m      3\u001b[0m \u001b[0;32mfrom\u001b[0m \u001b[0mmatplotlib\u001b[0m \u001b[0;32mimport\u001b[0m \u001b[0mpyplot\u001b[0m \u001b[0;32mas\u001b[0m \u001b[0mplt\u001b[0m\u001b[0;34m\u001b[0m\u001b[0;34m\u001b[0m\u001b[0m\n\u001b[1;32m      4\u001b[0m \u001b[0;32mfrom\u001b[0m \u001b[0mkeras\u001b[0m\u001b[0;34m.\u001b[0m\u001b[0mmodels\u001b[0m \u001b[0;32mimport\u001b[0m \u001b[0mload_model\u001b[0m\u001b[0;34m\u001b[0m\u001b[0;34m\u001b[0m\u001b[0m\n\u001b[0;32m----> 5\u001b[0;31m \u001b[0mmodel\u001b[0m \u001b[0;34m=\u001b[0m \u001b[0mload_model\u001b[0m\u001b[0;34m(\u001b[0m\u001b[0;34m\"testmodel.h5\"\u001b[0m\u001b[0;34m,\u001b[0m\u001b[0mcustom_objects\u001b[0m\u001b[0;34m=\u001b[0m\u001b[0;34m{\u001b[0m\u001b[0;34m'customeloss'\u001b[0m\u001b[0;34m:\u001b[0m \u001b[0mcustomeloss\u001b[0m\u001b[0;34m}\u001b[0m\u001b[0;34m)\u001b[0m\u001b[0;34m\u001b[0m\u001b[0;34m\u001b[0m\u001b[0m\n\u001b[0m\u001b[1;32m      6\u001b[0m \u001b[0mmodel1\u001b[0m \u001b[0;34m=\u001b[0m \u001b[0mload_model\u001b[0m\u001b[0;34m(\u001b[0m\u001b[0;34m\"testmodel1.h5\"\u001b[0m\u001b[0;34m,\u001b[0m\u001b[0mcustom_objects\u001b[0m\u001b[0;34m=\u001b[0m\u001b[0;34m{\u001b[0m\u001b[0;34m'customeloss'\u001b[0m\u001b[0;34m:\u001b[0m \u001b[0mcustomeloss\u001b[0m\u001b[0;34m}\u001b[0m\u001b[0;34m)\u001b[0m\u001b[0;34m\u001b[0m\u001b[0;34m\u001b[0m\u001b[0m\n\u001b[1;32m      7\u001b[0m \u001b[0;31m#model2 = load_model(\"testmodel2.h5\",custom_objects={'customeloss': customeloss,'leakyRelu':LR})\u001b[0m\u001b[0;34m\u001b[0m\u001b[0;34m\u001b[0m\u001b[0;34m\u001b[0m\u001b[0m\n",
            "\u001b[0;32m/usr/local/lib/python3.6/dist-packages/keras/engine/saving.py\u001b[0m in \u001b[0;36mload_wrapper\u001b[0;34m(*args, **kwargs)\u001b[0m\n\u001b[1;32m    490\u001b[0m                 \u001b[0mos\u001b[0m\u001b[0;34m.\u001b[0m\u001b[0mremove\u001b[0m\u001b[0;34m(\u001b[0m\u001b[0mtmp_filepath\u001b[0m\u001b[0;34m)\u001b[0m\u001b[0;34m\u001b[0m\u001b[0;34m\u001b[0m\u001b[0m\n\u001b[1;32m    491\u001b[0m             \u001b[0;32mreturn\u001b[0m \u001b[0mres\u001b[0m\u001b[0;34m\u001b[0m\u001b[0;34m\u001b[0m\u001b[0m\n\u001b[0;32m--> 492\u001b[0;31m         \u001b[0;32mreturn\u001b[0m \u001b[0mload_function\u001b[0m\u001b[0;34m(\u001b[0m\u001b[0;34m*\u001b[0m\u001b[0margs\u001b[0m\u001b[0;34m,\u001b[0m \u001b[0;34m**\u001b[0m\u001b[0mkwargs\u001b[0m\u001b[0;34m)\u001b[0m\u001b[0;34m\u001b[0m\u001b[0;34m\u001b[0m\u001b[0m\n\u001b[0m\u001b[1;32m    493\u001b[0m \u001b[0;34m\u001b[0m\u001b[0m\n\u001b[1;32m    494\u001b[0m     \u001b[0;32mreturn\u001b[0m \u001b[0mload_wrapper\u001b[0m\u001b[0;34m\u001b[0m\u001b[0;34m\u001b[0m\u001b[0m\n",
            "\u001b[0;32m/usr/local/lib/python3.6/dist-packages/keras/engine/saving.py\u001b[0m in \u001b[0;36mload_model\u001b[0;34m(filepath, custom_objects, compile)\u001b[0m\n\u001b[1;32m    581\u001b[0m \u001b[0;34m\u001b[0m\u001b[0m\n\u001b[1;32m    582\u001b[0m     \u001b[0;32mif\u001b[0m \u001b[0mH5Dict\u001b[0m\u001b[0;34m.\u001b[0m\u001b[0mis_supported_type\u001b[0m\u001b[0;34m(\u001b[0m\u001b[0mfilepath\u001b[0m\u001b[0;34m)\u001b[0m\u001b[0;34m:\u001b[0m\u001b[0;34m\u001b[0m\u001b[0;34m\u001b[0m\u001b[0m\n\u001b[0;32m--> 583\u001b[0;31m         \u001b[0;32mwith\u001b[0m \u001b[0mH5Dict\u001b[0m\u001b[0;34m(\u001b[0m\u001b[0mfilepath\u001b[0m\u001b[0;34m,\u001b[0m \u001b[0mmode\u001b[0m\u001b[0;34m=\u001b[0m\u001b[0;34m'r'\u001b[0m\u001b[0;34m)\u001b[0m \u001b[0;32mas\u001b[0m \u001b[0mh5dict\u001b[0m\u001b[0;34m:\u001b[0m\u001b[0;34m\u001b[0m\u001b[0;34m\u001b[0m\u001b[0m\n\u001b[0m\u001b[1;32m    584\u001b[0m             \u001b[0mmodel\u001b[0m \u001b[0;34m=\u001b[0m \u001b[0m_deserialize_model\u001b[0m\u001b[0;34m(\u001b[0m\u001b[0mh5dict\u001b[0m\u001b[0;34m,\u001b[0m \u001b[0mcustom_objects\u001b[0m\u001b[0;34m,\u001b[0m \u001b[0mcompile\u001b[0m\u001b[0;34m)\u001b[0m\u001b[0;34m\u001b[0m\u001b[0;34m\u001b[0m\u001b[0m\n\u001b[1;32m    585\u001b[0m     \u001b[0;32melif\u001b[0m \u001b[0mhasattr\u001b[0m\u001b[0;34m(\u001b[0m\u001b[0mfilepath\u001b[0m\u001b[0;34m,\u001b[0m \u001b[0;34m'write'\u001b[0m\u001b[0;34m)\u001b[0m \u001b[0;32mand\u001b[0m \u001b[0mcallable\u001b[0m\u001b[0;34m(\u001b[0m\u001b[0mfilepath\u001b[0m\u001b[0;34m.\u001b[0m\u001b[0mwrite\u001b[0m\u001b[0;34m)\u001b[0m\u001b[0;34m:\u001b[0m\u001b[0;34m\u001b[0m\u001b[0;34m\u001b[0m\u001b[0m\n",
            "\u001b[0;32m/usr/local/lib/python3.6/dist-packages/keras/utils/io_utils.py\u001b[0m in \u001b[0;36m__init__\u001b[0;34m(self, path, mode)\u001b[0m\n\u001b[1;32m    189\u001b[0m             \u001b[0mself\u001b[0m\u001b[0;34m.\u001b[0m\u001b[0m_is_file\u001b[0m \u001b[0;34m=\u001b[0m \u001b[0;32mFalse\u001b[0m\u001b[0;34m\u001b[0m\u001b[0;34m\u001b[0m\u001b[0m\n\u001b[1;32m    190\u001b[0m         \u001b[0;32melif\u001b[0m \u001b[0misinstance\u001b[0m\u001b[0;34m(\u001b[0m\u001b[0mpath\u001b[0m\u001b[0;34m,\u001b[0m \u001b[0msix\u001b[0m\u001b[0;34m.\u001b[0m\u001b[0mstring_types\u001b[0m\u001b[0;34m)\u001b[0m \u001b[0;32mor\u001b[0m \u001b[0m_is_path_instance\u001b[0m\u001b[0;34m(\u001b[0m\u001b[0mpath\u001b[0m\u001b[0;34m)\u001b[0m\u001b[0;34m:\u001b[0m\u001b[0;34m\u001b[0m\u001b[0;34m\u001b[0m\u001b[0m\n\u001b[0;32m--> 191\u001b[0;31m             \u001b[0mself\u001b[0m\u001b[0;34m.\u001b[0m\u001b[0mdata\u001b[0m \u001b[0;34m=\u001b[0m \u001b[0mh5py\u001b[0m\u001b[0;34m.\u001b[0m\u001b[0mFile\u001b[0m\u001b[0;34m(\u001b[0m\u001b[0mpath\u001b[0m\u001b[0;34m,\u001b[0m \u001b[0mmode\u001b[0m\u001b[0;34m=\u001b[0m\u001b[0mmode\u001b[0m\u001b[0;34m)\u001b[0m\u001b[0;34m\u001b[0m\u001b[0;34m\u001b[0m\u001b[0m\n\u001b[0m\u001b[1;32m    192\u001b[0m             \u001b[0mself\u001b[0m\u001b[0;34m.\u001b[0m\u001b[0m_is_file\u001b[0m \u001b[0;34m=\u001b[0m \u001b[0;32mTrue\u001b[0m\u001b[0;34m\u001b[0m\u001b[0;34m\u001b[0m\u001b[0m\n\u001b[1;32m    193\u001b[0m         \u001b[0;32melif\u001b[0m \u001b[0misinstance\u001b[0m\u001b[0;34m(\u001b[0m\u001b[0mpath\u001b[0m\u001b[0;34m,\u001b[0m \u001b[0mdict\u001b[0m\u001b[0;34m)\u001b[0m\u001b[0;34m:\u001b[0m\u001b[0;34m\u001b[0m\u001b[0;34m\u001b[0m\u001b[0m\n",
            "\u001b[0;32m/usr/local/lib/python3.6/dist-packages/h5py/_hl/files.py\u001b[0m in \u001b[0;36m__init__\u001b[0;34m(self, name, mode, driver, libver, userblock_size, swmr, rdcc_nslots, rdcc_nbytes, rdcc_w0, track_order, **kwds)\u001b[0m\n\u001b[1;32m    406\u001b[0m                 fid = make_fid(name, mode, userblock_size,\n\u001b[1;32m    407\u001b[0m                                \u001b[0mfapl\u001b[0m\u001b[0;34m,\u001b[0m \u001b[0mfcpl\u001b[0m\u001b[0;34m=\u001b[0m\u001b[0mmake_fcpl\u001b[0m\u001b[0;34m(\u001b[0m\u001b[0mtrack_order\u001b[0m\u001b[0;34m=\u001b[0m\u001b[0mtrack_order\u001b[0m\u001b[0;34m)\u001b[0m\u001b[0;34m,\u001b[0m\u001b[0;34m\u001b[0m\u001b[0;34m\u001b[0m\u001b[0m\n\u001b[0;32m--> 408\u001b[0;31m                                swmr=swmr)\n\u001b[0m\u001b[1;32m    409\u001b[0m \u001b[0;34m\u001b[0m\u001b[0m\n\u001b[1;32m    410\u001b[0m             \u001b[0;32mif\u001b[0m \u001b[0misinstance\u001b[0m\u001b[0;34m(\u001b[0m\u001b[0mlibver\u001b[0m\u001b[0;34m,\u001b[0m \u001b[0mtuple\u001b[0m\u001b[0;34m)\u001b[0m\u001b[0;34m:\u001b[0m\u001b[0;34m\u001b[0m\u001b[0;34m\u001b[0m\u001b[0m\n",
            "\u001b[0;32m/usr/local/lib/python3.6/dist-packages/h5py/_hl/files.py\u001b[0m in \u001b[0;36mmake_fid\u001b[0;34m(name, mode, userblock_size, fapl, fcpl, swmr)\u001b[0m\n\u001b[1;32m    171\u001b[0m         \u001b[0;32mif\u001b[0m \u001b[0mswmr\u001b[0m \u001b[0;32mand\u001b[0m \u001b[0mswmr_support\u001b[0m\u001b[0;34m:\u001b[0m\u001b[0;34m\u001b[0m\u001b[0;34m\u001b[0m\u001b[0m\n\u001b[1;32m    172\u001b[0m             \u001b[0mflags\u001b[0m \u001b[0;34m|=\u001b[0m \u001b[0mh5f\u001b[0m\u001b[0;34m.\u001b[0m\u001b[0mACC_SWMR_READ\u001b[0m\u001b[0;34m\u001b[0m\u001b[0;34m\u001b[0m\u001b[0m\n\u001b[0;32m--> 173\u001b[0;31m         \u001b[0mfid\u001b[0m \u001b[0;34m=\u001b[0m \u001b[0mh5f\u001b[0m\u001b[0;34m.\u001b[0m\u001b[0mopen\u001b[0m\u001b[0;34m(\u001b[0m\u001b[0mname\u001b[0m\u001b[0;34m,\u001b[0m \u001b[0mflags\u001b[0m\u001b[0;34m,\u001b[0m \u001b[0mfapl\u001b[0m\u001b[0;34m=\u001b[0m\u001b[0mfapl\u001b[0m\u001b[0;34m)\u001b[0m\u001b[0;34m\u001b[0m\u001b[0;34m\u001b[0m\u001b[0m\n\u001b[0m\u001b[1;32m    174\u001b[0m     \u001b[0;32melif\u001b[0m \u001b[0mmode\u001b[0m \u001b[0;34m==\u001b[0m \u001b[0;34m'r+'\u001b[0m\u001b[0;34m:\u001b[0m\u001b[0;34m\u001b[0m\u001b[0;34m\u001b[0m\u001b[0m\n\u001b[1;32m    175\u001b[0m         \u001b[0mfid\u001b[0m \u001b[0;34m=\u001b[0m \u001b[0mh5f\u001b[0m\u001b[0;34m.\u001b[0m\u001b[0mopen\u001b[0m\u001b[0;34m(\u001b[0m\u001b[0mname\u001b[0m\u001b[0;34m,\u001b[0m \u001b[0mh5f\u001b[0m\u001b[0;34m.\u001b[0m\u001b[0mACC_RDWR\u001b[0m\u001b[0;34m,\u001b[0m \u001b[0mfapl\u001b[0m\u001b[0;34m=\u001b[0m\u001b[0mfapl\u001b[0m\u001b[0;34m)\u001b[0m\u001b[0;34m\u001b[0m\u001b[0;34m\u001b[0m\u001b[0m\n",
            "\u001b[0;32mh5py/_objects.pyx\u001b[0m in \u001b[0;36mh5py._objects.with_phil.wrapper\u001b[0;34m()\u001b[0m\n",
            "\u001b[0;32mh5py/_objects.pyx\u001b[0m in \u001b[0;36mh5py._objects.with_phil.wrapper\u001b[0;34m()\u001b[0m\n",
            "\u001b[0;32mh5py/h5f.pyx\u001b[0m in \u001b[0;36mh5py.h5f.open\u001b[0;34m()\u001b[0m\n",
            "\u001b[0;31mOSError\u001b[0m: Unable to open file (unable to open file: name = 'testmodel.h5', errno = 2, error message = 'No such file or directory', flags = 0, o_flags = 0)"
          ]
        }
      ]
    },
    {
      "cell_type": "code",
      "metadata": {
        "id": "WrI4eH5t8-2K",
        "colab": {
          "base_uri": "https://localhost:8080/",
          "height": 773
        },
        "outputId": "8651bc92-f28f-49a1-b0a6-737e45cfa964"
      },
      "source": [
        "#img = Image.open('1_P_hgr1_id01_1.jpg')\n",
        "#groundtruth = Image.open('1_P_hgr1_id01_1.bmp')\n",
        "#img = Image.open('1_P_hgr1_id01_3.jpg')#test colorful background\n",
        "#groundtruth = Image.open('1_P_hgr1_id01_3.bmp')\n",
        "#img = Image.open('1_P_hgr1_id02_1.jpg')#test black backgournd\n",
        "#groundtruth = Image.open('1_P_hgr1_id02_1.bmp')\n",
        "img = Image.open('1_P_hgr1_id04_1.jpg')#train\n",
        "groundtruth = Image.open('1_P_hgr1_id04_1.bmp')\n",
        "img = img.resize((320, 320))\n",
        "plt.imshow(img)\n",
        "plt.show()\n",
        "groundtruth = groundtruth.resize((320, 320))\n",
        "plt.imshow(groundtruth)\n",
        "plt.show()\n",
        "x_train1=[]\n",
        "arr = np.array(img)\n",
        "x_train1 = np.append(x_train1, arr)\n",
        "x_train1 = np.array(x_train1, dtype='float32')\n",
        "x_train1 = x_train1.reshape((1, 320, 320, 3))\n",
        "x_train1 /= 255\n",
        "#img=x_train[0]\n",
        "#pred_array = model.predict(x_train1[:1])\n",
        "#pred_array=pred_array[0].reshape(320,320)\n",
        "#plt.imshow(pred_array,cmap='gray')\n",
        "#plt.show()\n",
        "pred_array = model1.predict(x_train1[:1])\n",
        "pred_array=pred_array[0].reshape(320,320)\n",
        "plt.imshow(pred_array,cmap='gray')\n",
        "plt.show()\n",
        "#pred_array = model2.predict(x_train1[:1])\n",
        "#pred_array=pred_array[0].reshape(320,320)\n",
        "#plt.imshow(pred_array,cmap='gray')\n",
        "#plt.show()\n"
      ],
      "execution_count": null,
      "outputs": [
        {
          "output_type": "display_data",
          "data": {
            "image/png": "[encoded data removed]",
            "text/plain": [
              "<Figure size 432x288 with 1 Axes>"
            ]
          },
          "metadata": {
            "tags": [],
            "needs_background": "light"
          }
        },
        {
          "output_type": "display_data",
          "data": {
            "image/png": "[encoded data removed]",
            "text/plain": [
              "<Figure size 432x288 with 1 Axes>"
            ]
          },
          "metadata": {
            "tags": [],
            "needs_background": "light"
          }
        },
        {
          "output_type": "display_data",
          "data": {
            "image/png": "[encoded data removed]",
            "text/plain": [
              "<Figure size 432x288 with 1 Axes>"
            ]
          },
          "metadata": {
            "tags": [],
            "needs_background": "light"
          }
        }
      ]
    },
    {
      "cell_type": "code",
      "metadata": {
        "id": "JKkt2NT2EdT3",
        "colab": {
          "base_uri": "https://localhost:8080/",
          "height": 401
        },
        "outputId": "d9b5e6c5-ab91-454b-c85e-380da35bdc55"
      },
      "source": [
        ""
      ],
      "execution_count": null,
      "outputs": [
        {
          "output_type": "error",
          "ename": "DisabledFunctionError",
          "evalue": "ignored",
          "traceback": [
            "\u001b[0;31m---------------------------------------------------------------------------\u001b[0m",
            "\u001b[0;31mDisabledFunctionError\u001b[0m                     Traceback (most recent call last)",
            "\u001b[0;32m<ipython-input-77-225c40b0e124>\u001b[0m in \u001b[0;36m<module>\u001b[0;34m()\u001b[0m\n\u001b[1;32m     18\u001b[0m \u001b[0;31m#print(thresh.shape)\u001b[0m\u001b[0;34m\u001b[0m\u001b[0;34m\u001b[0m\u001b[0;34m\u001b[0m\u001b[0m\n\u001b[1;32m     19\u001b[0m \u001b[0mthresh\u001b[0m\u001b[0;34m=\u001b[0m\u001b[0mcv2\u001b[0m\u001b[0;34m.\u001b[0m\u001b[0mresize\u001b[0m\u001b[0;34m(\u001b[0m\u001b[0mthresh\u001b[0m\u001b[0;34m,\u001b[0m\u001b[0;34m(\u001b[0m\u001b[0moutput\u001b[0m\u001b[0;34m.\u001b[0m\u001b[0mshape\u001b[0m\u001b[0;34m[\u001b[0m\u001b[0;36m1\u001b[0m\u001b[0;34m]\u001b[0m\u001b[0;34m,\u001b[0m\u001b[0moutput\u001b[0m\u001b[0;34m.\u001b[0m\u001b[0mshape\u001b[0m\u001b[0;34m[\u001b[0m\u001b[0;36m0\u001b[0m\u001b[0;34m]\u001b[0m\u001b[0;34m)\u001b[0m\u001b[0;34m)\u001b[0m\u001b[0;34m\u001b[0m\u001b[0;34m\u001b[0m\u001b[0m\n\u001b[0;32m---> 20\u001b[0;31m \u001b[0mcv2\u001b[0m\u001b[0;34m.\u001b[0m\u001b[0mimshow\u001b[0m\u001b[0;34m(\u001b[0m\u001b[0;34m'IMAGE GRAY'\u001b[0m\u001b[0;34m,\u001b[0m\u001b[0mthresh\u001b[0m\u001b[0;34m)\u001b[0m\u001b[0;34m\u001b[0m\u001b[0;34m\u001b[0m\u001b[0m\n\u001b[0m\u001b[1;32m     21\u001b[0m \u001b[0mcv2\u001b[0m\u001b[0;34m.\u001b[0m\u001b[0mwaitKey\u001b[0m\u001b[0;34m(\u001b[0m\u001b[0;36m0\u001b[0m\u001b[0;34m)\u001b[0m\u001b[0;34m\u001b[0m\u001b[0;34m\u001b[0m\u001b[0m\n\u001b[1;32m     22\u001b[0m \u001b[0mcv2\u001b[0m\u001b[0;34m.\u001b[0m\u001b[0mdestroyAllWindows\u001b[0m\u001b[0;34m(\u001b[0m\u001b[0;34m)\u001b[0m\u001b[0;34m\u001b[0m\u001b[0;34m\u001b[0m\u001b[0m\n",
            "\u001b[0;32m/usr/local/lib/python3.6/dist-packages/google/colab/_import_hooks/_cv2.py\u001b[0m in \u001b[0;36mwrapped\u001b[0;34m(*args, **kwargs)\u001b[0m\n\u001b[1;32m     50\u001b[0m   \u001b[0;32mdef\u001b[0m \u001b[0mwrapped\u001b[0m\u001b[0;34m(\u001b[0m\u001b[0;34m*\u001b[0m\u001b[0margs\u001b[0m\u001b[0;34m,\u001b[0m \u001b[0;34m**\u001b[0m\u001b[0mkwargs\u001b[0m\u001b[0;34m)\u001b[0m\u001b[0;34m:\u001b[0m\u001b[0;34m\u001b[0m\u001b[0;34m\u001b[0m\u001b[0m\n\u001b[1;32m     51\u001b[0m     \u001b[0;32mif\u001b[0m \u001b[0;32mnot\u001b[0m \u001b[0mos\u001b[0m\u001b[0;34m.\u001b[0m\u001b[0menviron\u001b[0m\u001b[0;34m.\u001b[0m\u001b[0mget\u001b[0m\u001b[0;34m(\u001b[0m\u001b[0menv_var\u001b[0m\u001b[0;34m,\u001b[0m \u001b[0;32mFalse\u001b[0m\u001b[0;34m)\u001b[0m\u001b[0;34m:\u001b[0m\u001b[0;34m\u001b[0m\u001b[0;34m\u001b[0m\u001b[0m\n\u001b[0;32m---> 52\u001b[0;31m       \u001b[0;32mraise\u001b[0m \u001b[0mDisabledFunctionError\u001b[0m\u001b[0;34m(\u001b[0m\u001b[0mmessage\u001b[0m\u001b[0;34m,\u001b[0m \u001b[0mname\u001b[0m \u001b[0;32mor\u001b[0m \u001b[0mfunc\u001b[0m\u001b[0;34m.\u001b[0m\u001b[0m__name__\u001b[0m\u001b[0;34m)\u001b[0m\u001b[0;34m\u001b[0m\u001b[0;34m\u001b[0m\u001b[0m\n\u001b[0m\u001b[1;32m     53\u001b[0m     \u001b[0;32mreturn\u001b[0m \u001b[0mfunc\u001b[0m\u001b[0;34m(\u001b[0m\u001b[0;34m*\u001b[0m\u001b[0margs\u001b[0m\u001b[0;34m,\u001b[0m \u001b[0;34m**\u001b[0m\u001b[0mkwargs\u001b[0m\u001b[0;34m)\u001b[0m\u001b[0;34m\u001b[0m\u001b[0;34m\u001b[0m\u001b[0m\n\u001b[1;32m     54\u001b[0m \u001b[0;34m\u001b[0m\u001b[0m\n",
            "\u001b[0;31mDisabledFunctionError\u001b[0m: cv2.imshow() is disabled in Colab, because it causes Jupyter sessions\nto crash; see https://github.com/jupyter/notebook/issues/3935.\nAs a substitution, consider using\n  from google.colab.patches import cv2_imshow\n"
          ]
        }
      ]
    },
    {
      "cell_type": "code",
      "metadata": {
        "id": "g1WgqPf5-Wwi"
      },
      "source": [
        ""
      ],
      "execution_count": null,
      "outputs": []
    }
  ]
}